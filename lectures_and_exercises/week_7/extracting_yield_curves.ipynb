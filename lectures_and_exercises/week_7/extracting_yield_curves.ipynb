{
 "cells": [
  {
   "cell_type": "code",
   "execution_count": 12,
   "id": "personal-retention",
   "metadata": {},
   "outputs": [
    {
     "name": "stdout",
     "output_type": "stream",
     "text": [
      "The autoreload extension is already loaded. To reload it, use:\n",
      "  %reload_ext autoreload\n"
     ]
    }
   ],
   "source": [
    "import sys\n",
    "sys.path.insert(0,'C:\\\\code\\\\python_for_the_financial_economist\\\\')\n",
    "\n",
    "\"\"\"\n",
    "Magic commands\n",
    "\"\"\"\n",
    "\n",
    "%load_ext autoreload\n",
    "%autoreload 2\n",
    "\n",
    "# animations, etc. requires below magic command\n",
    "# %matplotlib notebook\n",
    "\n",
    "\n",
    "\"\"\"\n",
    "Load relevant packages\n",
    "\"\"\"\n",
    "\n",
    "import numpy as np\n",
    "\n",
    "import matplotlib.pyplot as plt\n",
    "from matplotlib.patches import Polygon\n",
    "from matplotlib import animation, cm\n",
    "\n",
    "from scipy import stats\n",
    "from scipy import optimize\n",
    "from scipy.optimize import minimize\n",
    "from functools import reduce\n",
    "\n",
    "\n",
    "import autograd\n",
    "from statsmodels.tools.numdiff import approx_fprime, approx_hess\n",
    "\n",
    "\"\"\"\n",
    "Own packages\n",
    "\"\"\"\n",
    "\n",
    "from codelib.visualization.layout import DefaultStyle\n",
    "DefaultStyle();"
   ]
  },
  {
   "cell_type": "markdown",
   "id": "introductory-lawrence",
   "metadata": {},
   "source": [
    "# Introduction to fixed income modelling \n",
    "\n",
    "__Note__: For further details the reader is referred to [Claus Munk (2013), \"Fixed income modelling\"](https://www.amazon.co.uk/Fixed-Income-Modelling-Claus-Munk/dp/0198716443)\n",
    "\n",
    "The term [_fixed income_](https://www.investopedia.com/terms/f/fixedincome.asp) refers to assets and securities that pay out a set level of cash flows to investors, typically in the form of fixed interest or dividends. The simplest fixed income instruments are bonds that we can think of as a tradable loan agreement. \n",
    "\n",
    "We will in this lecture note introduce some terminology and see how we can extract yield curves from observed bond prices. The yield captures the infomation we need to price of fixed income instruments.   \n",
    "\n",
    "## Some terminology \n",
    "\n",
    "### Bond types\n",
    "\n",
    "__Zero-coupon bond - the fundamental building-block__\n",
    "\n",
    "A zero coupon bond is the simplest type of bond. A coupon bond at time $t$ promises a single payment (we assume 1 if not otherwise stated) at time $T \\geq t$ and has the price $B_t^T$. Note that $B_t^t = 1$. The zero coupon bond represents the market discount factor for a sure time $T$ payment. \n",
    "\n",
    "__Coupon bonds__\n",
    "\n",
    "A _coupon bond_ has multiple payments $Y_i, \\; i = 1, ...,n$ for different payments dates $T_i = T_1, ..., T_n$. We can think of a coupon bond as a portfolio of zero coupon bonds. Thus, if we can obtain the zero coupon term structure, we can price any coupon bond (or fixed cash flow). The price of a bond can be written as\n",
    "\n",
    "$$\n",
    "B_t = \\sum_{T_i > t} Y_i B_t^{T_i}\n",
    "$$\n",
    "\n",
    "Typically, coupon bonds have fixed payment intervals, e.g. $\\delta \\in  [0.25, 0.5, 1.0]$ corresponding to quarterly, semi-annually, and yearly. The size of payments is determined by the face value, coupon rate and amortization principle.  The coupon rate $R$ is typically qouted annually such that the periodic coupon rate is $\\delta R$. \n",
    "\n",
    "Three examples of coupon bonds are\n",
    "\n",
    "* Bullet bonds\n",
    "* Annuity bonds\n",
    "* Serial bonds\n",
    "\n",
    "_Bullet bonds_ pays the periodic coupon rate times the face value for all payment dates expect for the last payment where the face value also is repaid. E.g a 5-year bullet bond with coupon rate $R$ and face value of $1$: \n",
    "\n",
    "$$\n",
    "Y_i = \\left \\{ \\begin{array}{ll} R, & i = 1, ..., 4\\\\ 1 + R, & i=5 \\end{array} \\right. \n",
    "$$\n",
    "\n",
    "_Annuity bonds_ have equal payments for all payments dates. Each payment is composed of an interest payment and a principle repayment. A $n$-year annuity with annual payments will have the payments\n",
    "\n",
    "$$\n",
    "Y_i = Y = \\frac{R}{1 - (1+R)^{-n}}\n",
    "$$\n",
    "\n",
    "_Serial bonds_ pays the face value back in equal installments. A $n$ year bond with annual payments \n",
    "\n",
    "$$\n",
    "Y_i = \\frac{1}{n} + R(1 - \\frac{i-1}{n})\n",
    "$$\n",
    "\n",
    "\n",
    "### Yields and zero-coupon rates\n",
    "\n",
    "The _yield_ of a bond, $\\hat{y}_t^B$ (annually compounded) or $y_t^B$ (continuous compounding),  is the discount rate for which the present value of the future payments discounted at that rate is equal to the current price of the bond. The annually compuounded yield\n",
    "\n",
    "$$\n",
    "B_t = \\sum_{T_i > t} Y_i \\left(1 +  \\hat{y}_t^B\\right)^{-(T_i - t)}\n",
    "$$\n",
    "\n",
    "and the continuous compounded yield \n",
    "\n",
    "$$\n",
    "B_t = \\sum_{T_i > t} Y_i e^{-y_t^B (T_i - t)}\n",
    "$$\n",
    "\n",
    "\n",
    "We will often be interested in the zero-coupon yields that convey the same information as the discounter factor and thereby usefull for pricing other fixed income sercurites. Again, the _annually compounded_ zero-coupon yield is \n",
    "$$\n",
    "B_t^T =  \\left(1 +  \\hat{y}_t^T\\right)^{-(T - t)}\n",
    "$$\n",
    "Solving for the yield gives us \n",
    "\n",
    "$$\n",
    "\\hat{y}_t^T = \\left(B_t^T \\right)^{- \\frac{1}{T-t}} - 1\n",
    "$$\n",
    "\n",
    "For the case with _continuous compounding_ we have \n",
    "$$\n",
    "B_t^T = e^{-y_t^T (T - t)}\n",
    "$$\n",
    "and the corresponding zero-coupon yield \n",
    "$$\n",
    "y_t^T = - \\frac{1}{T-t}\\ln B_t^T\n",
    "$$\n",
    "\n",
    "Our goal will be to find a zero-coupon yield curve such that we can price a range of fixed income instruments. \n",
    "\n",
    "### Forward rates\n",
    "\n",
    "The _forward rate_ reflects the price on a loan between two future dates. The _annually compounded_ forward rate between time $T$ and $S$ is given by \n",
    "\n",
    "$$\n",
    "\\hat{f}_t^{T,S} = \\left(\\frac{B_t^T}{B_t^S} \\right)^{1/(S-T)} - 1\n",
    "$$\n",
    "such that \n",
    "$$\n",
    "\\left(1 +  \\hat{y}_t^S\\right)^{-(S-t)} = \\left(1 + \\hat{y}_t^T \\right)^{-(T-t)} \\left(1 + \\hat{f}_t^{T,S}  \\right)^{-(S-T)}\n",
    "$$\n",
    "Similarly, with _continuous compounding_ we have \n",
    "$$\n",
    "f_t^{T,S} = - \\frac{\\ln B_t^S - \\ln B_t^T}{S-T}\n",
    "$$\n",
    "such that \n",
    "$$\n",
    "B_t^S = B_t^T e^{-f_t^{T,S}(S-T)}\n",
    "$$\n",
    "We obtain the instantaneous forward rate as the limit when $S \\to T$\n",
    "$$\n",
    "f_t^T = \\frac{\\partial \\ln B_t^T}{\\partial T} = - \\frac{\\partial B_t^T}{\\partial T} \\frac{1}{B_t^T}\n",
    "$$\n",
    "The zero-coupon yield is related to the instantaneous forward rates as follows\n",
    "$$\n",
    "y_t^T = \\frac{1}{T-t}\\intop_t^T f_t^u du\n",
    "$$\n",
    "such that \n",
    "$$\n",
    "B_t^T = e^{-\\intop_t^T f_t^u du}\n",
    "$$"
   ]
  },
  {
   "cell_type": "markdown",
   "id": "distinct-youth",
   "metadata": {},
   "source": [
    "## Extracting yield curves from bond prices\n",
    "\n",
    "\n",
    "### Bootstrapping\n",
    "\n",
    "Boostrapping is the simplest way of obtaining zero-coupon yields. If we observe coupon bonds then we will be able to back-out the implicit zero-coupon yields consistent witht the observed market prices. Assume that we have the two bonds and we are standing at time $t=0$\n",
    "\n",
    "|| Cash Flow, $t=1$| Cash Flow, $t=2$| Price  |\n",
    "|:----------|||----------|\n",
    "| Bond 1    | 110|   | 100.0  |\n",
    "| Bond 2    |5 | 105    | 90.0  |\n",
    "\n",
    "\n",
    "Then clearly, the discount factor (the price of a zero-coupon bond) maturing at time $t=1$ is \n",
    "$$\n",
    "100 = 110 B_0^1 \\Rightarrow B_0^1 = \\frac{1}{110} 100 \n",
    "$$\n",
    "and \n",
    "$$\n",
    "90 = 5 B_0^1 + 105 B_0^2 = 5 \\frac{1}{110} 100 + 105 B_0^2  \\Rightarrow B_0^2 = \\frac{1}{105} 90 +  \\frac{5}{105}  \\frac{1}{110} 100\n",
    "$$"
   ]
  },
  {
   "cell_type": "code",
   "execution_count": 13,
   "id": "protecting-france",
   "metadata": {},
   "outputs": [
    {
     "data": {
      "text/plain": [
       "array([0.90909091, 0.81385281])"
      ]
     },
     "execution_count": 13,
     "metadata": {},
     "output_type": "execute_result"
    }
   ],
   "source": [
    "cf_matrix = np.array([[110.0, 0.0],\n",
    "                      [5.0, 105.0]])\n",
    "price_vector = np.array([100.0, 90.0])\n",
    "\n",
    "# discount factors\n",
    "discount_factors = np.linalg.inv(cf_matrix)@price_vector\n",
    "discount_factors"
   ]
  },
  {
   "cell_type": "code",
   "execution_count": 14,
   "id": "stuck-partition",
   "metadata": {},
   "outputs": [
    {
     "data": {
      "text/plain": [
       "array([0.09531018, 0.10298787])"
      ]
     },
     "execution_count": 14,
     "metadata": {},
     "output_type": "execute_result"
    }
   ],
   "source": [
    "# zero yields\n",
    "zero_yields = -np.log(discount_factors)/np.array([1.0, 2.0])\n",
    "zero_yields"
   ]
  },
  {
   "cell_type": "markdown",
   "id": "found-milton",
   "metadata": {},
   "source": [
    "The example above shows us that we basically need to solve a system of equations \n",
    "$$\n",
    "\\mathbf{B}_t = \\begin{bmatrix} B_{1,t} \\\\ B_{2, t} \\\\  \\vdots \\\\ B_{m, t} \\end{bmatrix}  = \n",
    "\\begin{bmatrix} Y_{1,1} & Y_{1,2} & \\dots & Y_{1, n} \\\\ \n",
    "Y_{2, 1} & Y_{2,2} & \\dots & Y_{2, n}\\\\  \n",
    "\\vdots & \\vdots & \\ddots & \\vdots \\\\\n",
    "Y_{m, 1} & Y_{m, 2} & \\dots & Y_{m, n}  \\end{bmatrix} \n",
    "\\begin{bmatrix} B_{t}^{T_1} \\\\ B_t^{T_2} \\\\  \\vdots \\\\ B_t^{T_n} \\end{bmatrix} = \\mathbf{C}_t  \\mathbf{Z}_t\n",
    "$$\n",
    "where we have $m$ different bonds with $n$ different payment dates - note that some payments may be zero. Given the cash flows and observed bond prices, we can solve of a unique discount vector $\\mathbf{Z}_t$\n",
    "$$\n",
    "Z_t = \\mathbf{C}^{-1} \\mathbf{B}_t\n",
    "$$\n",
    "if the cash flow matrix $\\mathbf{C}_t$ is invertible (non-singular). If $m>n$ the system of equation may not have any solutions and if $m<n$ then we may have multiple solutions. \n",
    "\n",
    "\n",
    "__Example__\n",
    "\n",
    "__Note__: Example is adapted from _Exercise 2.2_ in [Claus Munk (2013), \"Fixed income modelling\"](https://www.amazon.co.uk/Fixed-Income-Modelling-Claus-Munk/dp/0198716443)\n",
    "\n",
    "Consider a bond market in which 10 bullet bonds are traded. They all have face value of 100, a coupon rate of 5\\%, annual payments and exactly one year to the next payment. The bonds mature in 1, 2, ...,  10 years:\n",
    "\n",
    "| Maturity  |  Price   |\n",
    "|:----------|----------|\n",
    "| 1         | 101.942  |\n",
    "| 2         | 103.290  |\n",
    "| 3         | 104.118  |\n",
    "| 4         | 104.460  |\n",
    "| 5         | 104.355  |\n",
    "| 6         | 104.256  |\n",
    "| 7         | 104.552  |\n",
    "| 8         | 105.210  |\n",
    "| 9         | 105.482  |\n",
    "| 10        | 105.399  |\n",
    "\n",
    "\n",
    "Perform the following calculations: \n",
    "\n",
    "* Find the discount factors\n",
    "* Find the corresponding zero yields (qouted annually)"
   ]
  },
  {
   "cell_type": "code",
   "execution_count": 23,
   "id": "prompt-valuation",
   "metadata": {},
   "outputs": [],
   "source": [
    "\"\"\"\n",
    "Define price vector \n",
    "\"\"\"\n",
    "\n",
    "prices = np.array([101.942, 103.290, 104.118, 104.460, 104.355,\n",
    "                   104.256, 104.552, 105.210, 105.482, 105.399])\n",
    "\n",
    "\"\"\"\n",
    "Create relevant cash flow matrix\n",
    "\"\"\"\n",
    "\n",
    "maturities = np.arange(1.0, 11.0, 1.0)\n",
    "\n",
    "term_info = list()\n",
    "flow_info = list()\n",
    "for maturity in maturities: \n",
    "    \n",
    "    terms = np.arange(1.0, maturity + 1.0, 1.0)\n",
    "    flows = np.ones_like(terms) * 5 \n",
    "    flows[-1] += 100\n",
    "    \n",
    "    term_info.append(terms)\n",
    "    flow_info.append(flows)\n",
    "\n",
    "all_terms = reduce(np.union1d, term_info)\n",
    "\n",
    "cash_flow_matrix = np.zeros((maturities.shape[0] , all_terms.shape[0]))\n",
    "\n",
    "idx = 0\n",
    "for terms, flows in zip(term_info, flow_info):\n",
    "    \n",
    "    indicator = np.in1d(all_terms, terms)\n",
    "\n",
    "    cash_flow_matrix[idx, indicator] = flows\n",
    "    \n",
    "    idx += 1"
   ]
  },
  {
   "cell_type": "code",
   "execution_count": 24,
   "id": "fluid-inclusion",
   "metadata": {},
   "outputs": [
    {
     "data": {
      "text/plain": [
       "array([[105.,   0.,   0.,   0.,   0.,   0.,   0.,   0.,   0.,   0.],\n",
       "       [  5., 105.,   0.,   0.,   0.,   0.,   0.,   0.,   0.,   0.],\n",
       "       [  5.,   5., 105.,   0.,   0.,   0.,   0.,   0.,   0.,   0.],\n",
       "       [  5.,   5.,   5., 105.,   0.,   0.,   0.,   0.,   0.,   0.],\n",
       "       [  5.,   5.,   5.,   5., 105.,   0.,   0.,   0.,   0.,   0.],\n",
       "       [  5.,   5.,   5.,   5.,   5., 105.,   0.,   0.,   0.,   0.],\n",
       "       [  5.,   5.,   5.,   5.,   5.,   5., 105.,   0.,   0.,   0.],\n",
       "       [  5.,   5.,   5.,   5.,   5.,   5.,   5., 105.,   0.,   0.],\n",
       "       [  5.,   5.,   5.,   5.,   5.,   5.,   5.,   5., 105.,   0.],\n",
       "       [  5.,   5.,   5.,   5.,   5.,   5.,   5.,   5.,   5., 105.]])"
      ]
     },
     "execution_count": 24,
     "metadata": {},
     "output_type": "execute_result"
    }
   ],
   "source": [
    "cash_flow_matrix"
   ]
  },
  {
   "cell_type": "code",
   "execution_count": 16,
   "id": "bacterial-dutch",
   "metadata": {},
   "outputs": [
    {
     "data": {
      "text/plain": [
       "array([0.97087619, 0.93748209, 0.9007258 , 0.86109123, 0.81908689,\n",
       "       0.7791399 , 0.74485704, 0.71565433, 0.68416603, 0.65079621])"
      ]
     },
     "execution_count": 16,
     "metadata": {},
     "output_type": "execute_result"
    }
   ],
   "source": [
    "\"\"\"\n",
    "Calculate discount factors \n",
    "\"\"\"\n",
    "\n",
    "discount_factors = np.linalg.inv(cash_flow_matrix) @ prices\n",
    "discount_factors"
   ]
  },
  {
   "cell_type": "code",
   "execution_count": 17,
   "id": "green-command",
   "metadata": {},
   "outputs": [
    {
     "data": {
      "text/plain": [
       "array([101.942, 103.29 , 104.118, 104.46 , 104.355, 104.256, 104.552,\n",
       "       105.21 , 105.482, 105.399])"
      ]
     },
     "execution_count": 17,
     "metadata": {},
     "output_type": "execute_result"
    }
   ],
   "source": [
    "cash_flow_matrix @ discount_factors"
   ]
  },
  {
   "cell_type": "code",
   "execution_count": 18,
   "id": "african-remainder",
   "metadata": {},
   "outputs": [
    {
     "data": {
      "image/png": "[encoded data removed]",
      "text/plain": [
       "<Figure size 864x432 with 1 Axes>"
      ]
     },
     "metadata": {
      "needs_background": "light"
     },
     "output_type": "display_data"
    }
   ],
   "source": [
    "\"\"\"\n",
    "Calculate zero yields\n",
    "\"\"\"\n",
    "\n",
    "zero_yields = discount_factors**(-1 / maturities) - 1\n",
    "\n",
    "fig, ax = plt.subplots(figsize=(12,6)) \n",
    "plt.plot(maturities, zero_yields, marker='o');\n",
    "plt.xlabel('Tenor');\n",
    "plt.ylabel('Zero yields');"
   ]
  },
  {
   "cell_type": "markdown",
   "id": "burning-logic",
   "metadata": {},
   "source": [
    "Assume now that we drop the bond with maturity in 5 years. Will it still be possible to use the above procedure? "
   ]
  },
  {
   "cell_type": "code",
   "execution_count": 25,
   "id": "later-wealth",
   "metadata": {},
   "outputs": [],
   "source": [
    "\"\"\"\n",
    "Define price vector \n",
    "\"\"\"\n",
    "\n",
    "prices = np.array([101.942, 103.290, 104.118, 104.460,\n",
    "                   104.256, 104.552, 105.210, 105.482, 105.399])\n",
    "\n",
    "\"\"\"\n",
    "Create relevant cash flow matrix\n",
    "\"\"\"\n",
    "\n",
    "maturities = np.concatenate((np.arange(1.0, 5.0, 1.0), np.arange(6.0, 11.0, 1.0)))\n",
    "\n",
    "term_info = list()\n",
    "flow_info = list()\n",
    "for maturity in maturities: \n",
    "    \n",
    "    terms = np.arange(1.0, maturity + 1.0, 1.0)\n",
    "    flows = np.ones_like(terms) * 5 \n",
    "    flows[-1] += 100\n",
    "    \n",
    "    term_info.append(terms)\n",
    "    flow_info.append(flows)\n",
    "\n",
    "all_terms = reduce(np.union1d, term_info)\n",
    "\n",
    "cash_flow_matrix = np.zeros((maturities.shape[0] , all_terms.shape[0]))\n",
    "\n",
    "idx = 0\n",
    "for terms, flows in zip(term_info, flow_info):\n",
    "    \n",
    "    indicator = np.in1d(all_terms, terms)\n",
    "\n",
    "    cash_flow_matrix[idx, indicator] = flows\n",
    "    \n",
    "    idx += 1"
   ]
  },
  {
   "cell_type": "code",
   "execution_count": 26,
   "id": "opposed-assembly",
   "metadata": {},
   "outputs": [
    {
     "data": {
      "text/plain": [
       "array([[105.,   0.,   0.,   0.,   0.,   0.,   0.,   0.,   0.,   0.],\n",
       "       [  5., 105.,   0.,   0.,   0.,   0.,   0.,   0.,   0.,   0.],\n",
       "       [  5.,   5., 105.,   0.,   0.,   0.,   0.,   0.,   0.,   0.],\n",
       "       [  5.,   5.,   5., 105.,   0.,   0.,   0.,   0.,   0.,   0.],\n",
       "       [  5.,   5.,   5.,   5.,   5., 105.,   0.,   0.,   0.,   0.],\n",
       "       [  5.,   5.,   5.,   5.,   5.,   5., 105.,   0.,   0.,   0.],\n",
       "       [  5.,   5.,   5.,   5.,   5.,   5.,   5., 105.,   0.,   0.],\n",
       "       [  5.,   5.,   5.,   5.,   5.,   5.,   5.,   5., 105.,   0.],\n",
       "       [  5.,   5.,   5.,   5.,   5.,   5.,   5.,   5.,   5., 105.]])"
      ]
     },
     "execution_count": 26,
     "metadata": {},
     "output_type": "execute_result"
    }
   ],
   "source": [
    "cash_flow_matrix"
   ]
  },
  {
   "cell_type": "code",
   "execution_count": 29,
   "id": "second-criminal",
   "metadata": {},
   "outputs": [
    {
     "data": {
      "text/plain": [
       "(9, 10)"
      ]
     },
     "execution_count": 29,
     "metadata": {},
     "output_type": "execute_result"
    }
   ],
   "source": [
    "cash_flow_matrix.shape"
   ]
  },
  {
   "cell_type": "code",
   "execution_count": 30,
   "id": "tender-pharmacy",
   "metadata": {},
   "outputs": [
    {
     "data": {
      "text/plain": [
       "9"
      ]
     },
     "execution_count": 30,
     "metadata": {},
     "output_type": "execute_result"
    }
   ],
   "source": [
    "#  the rank cannot be larger than the num. of cols or rows\n",
    "np.linalg.matrix_rank(cash_flow_matrix)"
   ]
  },
  {
   "cell_type": "markdown",
   "id": "controversial-prison",
   "metadata": {},
   "source": [
    "NO, the cash flow matrix is no longer invertible and we cannot apply the above methodology! We will get an error if we try to evaluate the code `np.linalg.inv(cash_flow_matrix)`. "
   ]
  },
  {
   "cell_type": "markdown",
   "id": "expanded-stopping",
   "metadata": {},
   "source": [
    "### Alternatives to bootstrapping: Splines\n",
    "\n",
    "Bootstrapping can only give us the discount factors for the payments "
   ]
  },
  {
   "cell_type": "code",
   "execution_count": null,
   "id": "sought-morris",
   "metadata": {},
   "outputs": [],
   "source": []
  },
  {
   "cell_type": "code",
   "execution_count": null,
   "id": "geological-forwarding",
   "metadata": {},
   "outputs": [],
   "source": []
  },
  {
   "cell_type": "code",
   "execution_count": null,
   "id": "portable-class",
   "metadata": {},
   "outputs": [],
   "source": []
  },
  {
   "cell_type": "code",
   "execution_count": null,
   "id": "north-metropolitan",
   "metadata": {},
   "outputs": [],
   "source": []
  },
  {
   "cell_type": "code",
   "execution_count": null,
   "id": "dynamic-dragon",
   "metadata": {},
   "outputs": [],
   "source": []
  },
  {
   "cell_type": "code",
   "execution_count": null,
   "id": "incorrect-passport",
   "metadata": {},
   "outputs": [],
   "source": []
  },
  {
   "cell_type": "code",
   "execution_count": null,
   "id": "acknowledged-hamilton",
   "metadata": {},
   "outputs": [],
   "source": []
  },
  {
   "cell_type": "code",
   "execution_count": null,
   "id": "circular-stationery",
   "metadata": {},
   "outputs": [],
   "source": []
  },
  {
   "cell_type": "markdown",
   "id": "whole-school",
   "metadata": {},
   "source": [
    "### Alternatives to bootstrapping: Nelson-Siegel Svennson "
   ]
  },
  {
   "cell_type": "code",
   "execution_count": null,
   "id": "norman-baseline",
   "metadata": {},
   "outputs": [],
   "source": []
  },
  {
   "cell_type": "code",
   "execution_count": null,
   "id": "prescribed-omaha",
   "metadata": {},
   "outputs": [],
   "source": []
  },
  {
   "cell_type": "markdown",
   "id": "hourly-passion",
   "metadata": {},
   "source": [
    "# References\n",
    "\n",
    "## Articles\n",
    "\n",
    "## Books\n",
    "\n",
    "[Claus Munk (2013), \"Fixed income modelling\"](https://www.amazon.co.uk/Fixed-Income-Modelling-Claus-Munk/dp/0198716443)\n"
   ]
  }
 ],
 "metadata": {
  "kernelspec": {
   "display_name": "python_for_fin_econ",
   "language": "python",
   "name": "python_for_fin_econ"
  },
  "language_info": {
   "codemirror_mode": {
    "name": "ipython",
    "version": 3
   },
   "file_extension": ".py",
   "mimetype": "text/x-python",
   "name": "python",
   "nbconvert_exporter": "python",
   "pygments_lexer": "ipython3",
   "version": "3.8.6"
  }
 },
 "nbformat": 4,
 "nbformat_minor": 5
}
