{
 "cells": [
  {
   "cell_type": "code",
   "execution_count": 1,
   "id": "personal-retention",
   "metadata": {},
   "outputs": [],
   "source": [
    "import sys\n",
    "sys.path.insert(0,'C:\\\\code\\\\python_for_the_financial_economist\\\\')\n",
    "\n",
    "\"\"\"\n",
    "Magic commands\n",
    "\"\"\"\n",
    "\n",
    "%load_ext autoreload\n",
    "%autoreload 2\n",
    "\n",
    "\"\"\"\n",
    "Load relevant packages\n",
    "\"\"\"\n",
    "\n",
    "import numpy as np\n",
    "import matplotlib.pyplot as plt\n",
    "import seaborn as sns\n",
    "\n",
    "\n",
    "from scipy.optimize import minimize\n",
    "\"\"\"\n",
    "Own packages\n",
    "\"\"\"\n",
    "\n",
    "from codelib.visualization.layout import DefaultStyle\n",
    "DefaultStyle();"
   ]
  },
  {
   "cell_type": "markdown",
   "id": "streaming-vertex",
   "metadata": {},
   "source": [
    "# Exercises - Week 1\n",
    "\n",
    "In this week we will look at a few exercises involving the `numpy` package. The `numpy` package is a package for numeric programming that allows us to work with vectors and matrices (arrays), perform a range of operations in linear algebra, simulate random numbers, etc.   The documentation for `numpy` can be found [here](https://numpy.org/doc/stable/reference/index.html). \n",
    "\n",
    "In this exercies set, we will look at basic vector and matrix operations using `numpy`, but also the sub-packages\n",
    "\n",
    "* `numpy.random` : Used to simulate random numbers\n",
    "* `numpy.linalg` : Used for linear algebra operations\n",
    "\n",
    "\n"
   ]
  },
  {
   "cell_type": "markdown",
   "id": "therapeutic-midnight",
   "metadata": {},
   "source": [
    "## Problem 1: Ordinary least squares\n",
    "\n",
    "Consider the regression model \n",
    "\n",
    "$$\n",
    "\\begin{equation*}\n",
    "\\mathbf{Y} =  \\mathbf{X}\\boldsymbol{\\theta} + \\boldsymbol{\\varepsilon}\n",
    "\\end{equation*}\n",
    "$$\n",
    "\n",
    "where\n",
    "\n",
    "$$\n",
    "\\boldsymbol{\\theta} = \\begin{bmatrix} \\alpha \\\\ \\beta_{x_1} \\\\ \\beta_{x_2} \\end{bmatrix}, \\; \\mathbf{Y} = \\begin{bmatrix} y_1 \\\\ \\vdots \\\\ y_n \\end{bmatrix}, \\; \\mathbf{X} = \\begin{bmatrix} 1 & x_{11} & x_{21} \\\\ \\vdots & \\vdots & \\vdots \\\\ \n",
    "1 & x_{1n} & x_{2n}\\end{bmatrix}, \\; \\boldsymbol{\\varepsilon} = \\begin{bmatrix} \\varepsilon_1 \\\\ \\vdots \\\\ \\varepsilon_n \\end{bmatrix}\n",
    "$$\n",
    "\n",
    "Assume that $x_{1i}$ and $x_{2i}$ are distributed as $N(0,4)$ with a correlation of $\\rho$ and $\\varepsilon_i \\sim N(0,1)$. $\\alpha=1, \\beta_{x_1}=1, \\beta_{x_2}=1$.  \n",
    "\n",
    "__Question 1__\n",
    "\n",
    "Simulate 50 observations from this regression model when the correlation is zero. It should be possible by only using the functions `numpy.random.multivariate_normal`, `numpy.random.normal`, `numpy.zeros`, `numpy.ones`, `numpy.column_stack` and `@`, `+` operators. \n",
    "\n",
    "\n",
    "__Question 2__\n",
    "\n",
    "Given the simulated $\\mathbf{Y}$ vector and $\\mathbf{X}$ matrix, then we can estimate the parameters using the matrix formula for the ordinary least squares estimator:\n",
    "\n",
    "$$\n",
    "\\hat{\\boldsymbol{\\theta}} = \\left(\\mathbf{X}^\\top  \\mathbf{X}  \\right)^{-1} \\mathbf{X}^\\top \\mathbf{Y}\n",
    "$$\n",
    "\n",
    "Estimate the parameters. One could use the function `numpy.linalg.lstsq` directly. \n",
    "\n",
    "__Question 3__\n",
    "\n",
    "We want to perform a simulation study to show the effect of low and high correlation between dependent variables. We repeat the simulation and estimation from question 1 and 2 10,000 times for the case $\\rho = 0.0$ and for the case $\\rho = 0.95$. Store the estimates in `theta_uncorr` and `theta_corr`. \n",
    "\n",
    "__Question 4__\n",
    "\n",
    "Calculate the mean and standard deviation of the parameter estimates. Note that a `numpy.ndarray` has the methods `mean` and `std`. \n",
    "\n",
    "__Question 5__\n",
    "\n",
    "Plot scatter plots between $\\hat{\\beta}_{x_1}$ and $\\hat{\\beta}_{x_2}$ for the two cases. What are the main take away from this and the previous question?\n",
    "\n",
    "One could use the code\n",
    "\n",
    "```python\n",
    "import matplotlib.pyplot as plt\n",
    "\n",
    "fig,ax = plt.subplots(1, 2, figsize=(16, 5))\n",
    "\n",
    "ax1 = ax[0]\n",
    "\n",
    "ax1.scatter(theta_uncorr[:, 1], theta_uncorr[:, 2], color=\"blue\", alpha=0.5)\n",
    "\n",
    "ax1.set_xlabel('$\\\\hat{\\\\beta}_{x_1}$', size=15)\n",
    "ax1.set_ylabel('$\\\\hat{\\\\beta}_{x_2}$', size=15)\n",
    "ax1.set_title('Scatterplot: $\\\\hat{\\\\beta}_{x_1}$ vs. $\\\\hat{\\\\beta}_{x_2}$ for  $\\\\rho = 0.0$', size=15)\n",
    "\n",
    "ax2 = ax[1]\n",
    "\n",
    "ax2.scatter(theta_corr[:, 1], theta_corr[:, 2], color=\"blue\", alpha=0.5)\n",
    "\n",
    "ax2.set_xlabel('$\\\\hat{\\\\beta}_{x_1}$', size=15)\n",
    "ax2.set_ylabel('$\\\\hat{\\\\beta}_{x_2}$', size=15)\n",
    "ax2.set_title('Scatterplot: $\\\\hat{\\\\beta}_{x_1}$ vs. $\\\\hat{\\\\beta}_{x_2}$ for  $\\\\rho = 0.95$', size=15)\n",
    "\n",
    "```"
   ]
  },
  {
   "cell_type": "markdown",
   "id": "coordinate-horse",
   "metadata": {},
   "source": [
    "### Solution\n",
    "\n",
    "__Question 1__"
   ]
  },
  {
   "cell_type": "code",
   "execution_count": 2,
   "id": "northern-boards",
   "metadata": {},
   "outputs": [],
   "source": [
    "N = 50\n",
    "theta = np.array([1.0, 1.0, 1.0])\n",
    "rho = 0.0\n",
    "mu_x = np.array([0.0, 0.0])\n",
    "vol_x = np.array([2.0, 2.0])\n",
    "cov_x = np.outer(vol_x, vol_x) * np.array([[1.0, rho], [rho, 1.0]])\n",
    "\n",
    "X = np.random.multivariate_normal(mu_x, cov_x, size=N)\n",
    "X = np.column_stack((np.ones(50), X))\n",
    "\n",
    "eps = np.random.normal(size=50)\n",
    "\n",
    "Y = X @ theta + eps"
   ]
  },
  {
   "cell_type": "markdown",
   "id": "grand-victorian",
   "metadata": {},
   "source": [
    "__Question 2__"
   ]
  },
  {
   "cell_type": "code",
   "execution_count": 3,
   "id": "searching-gossip",
   "metadata": {},
   "outputs": [
    {
     "name": "stdout",
     "output_type": "stream",
     "text": [
      "OLS parameter estimates: \n",
      "\n",
      "alpha = 0.8792\n",
      "beta_x1 = 0.9994\n",
      "beta_x2 = 0.9765\n"
     ]
    }
   ],
   "source": [
    "theta, resid, rank, s = np.linalg.lstsq(X, Y, rcond=-1) \n",
    "\n",
    "print((\"\"\"OLS parameter estimates: \\n\n",
    "alpha = {:.4f}\n",
    "beta_x1 = {:.4f}\n",
    "beta_x2 = {:.4f}\"\"\").format(*theta))"
   ]
  },
  {
   "cell_type": "markdown",
   "id": "unauthorized-superintendent",
   "metadata": {},
   "source": [
    "__Question 3__"
   ]
  },
  {
   "cell_type": "code",
   "execution_count": 4,
   "id": "connected-closure",
   "metadata": {},
   "outputs": [],
   "source": [
    "def simulation(N, theta, rho, mu_x, vol_x, num_sim = 10000): \n",
    "    \n",
    "    cov_x = np.outer(vol_x, vol_x) * np.array([[1.0, rho], [rho, 1.0]])\n",
    "\n",
    "    all_thetas = np.zeros((num_sim, len(theta)))\n",
    "    \n",
    "    for i in range(num_sim): \n",
    "        \n",
    "        X = np.random.multivariate_normal(mu_x, cov_x, size=N)\n",
    "        X = np.column_stack((np.ones(N), X))\n",
    "\n",
    "        eps = np.random.normal(size=N)\n",
    "\n",
    "        Y = X @ theta + eps\n",
    "\n",
    "        all_thetas[i, :], resid, rank, s  = np.linalg.lstsq(X,Y, rcond=-1) \n",
    "        \n",
    "    return all_thetas"
   ]
  },
  {
   "cell_type": "code",
   "execution_count": 5,
   "id": "unsigned-consultation",
   "metadata": {},
   "outputs": [],
   "source": [
    "theta_uncorr = simulation(N, theta, 0.0, mu_x, vol_x, num_sim = 10000)\n",
    "theta_corr = simulation(N, theta, 0.95, mu_x, vol_x, num_sim = 10000)"
   ]
  },
  {
   "cell_type": "markdown",
   "id": "italic-zimbabwe",
   "metadata": {},
   "source": [
    "__Question 4__"
   ]
  },
  {
   "cell_type": "code",
   "execution_count": 6,
   "id": "cooked-parts",
   "metadata": {},
   "outputs": [
    {
     "data": {
      "text/plain": [
       "array([0.87870902, 0.99906332, 0.97457406])"
      ]
     },
     "execution_count": 6,
     "metadata": {},
     "output_type": "execute_result"
    }
   ],
   "source": [
    "theta_uncorr.mean(axis=0)"
   ]
  },
  {
   "cell_type": "code",
   "execution_count": 7,
   "id": "twelve-laptop",
   "metadata": {},
   "outputs": [
    {
     "data": {
      "text/plain": [
       "array([0.14489985, 0.07383021, 0.07327256])"
      ]
     },
     "execution_count": 7,
     "metadata": {},
     "output_type": "execute_result"
    }
   ],
   "source": [
    "theta_uncorr.std(axis=0)"
   ]
  },
  {
   "cell_type": "code",
   "execution_count": 8,
   "id": "happy-campbell",
   "metadata": {},
   "outputs": [
    {
     "data": {
      "text/plain": [
       "array([0.87776123, 0.99860608, 0.97787805])"
      ]
     },
     "execution_count": 8,
     "metadata": {},
     "output_type": "execute_result"
    }
   ],
   "source": [
    "theta_corr.mean(axis=0)"
   ]
  },
  {
   "cell_type": "code",
   "execution_count": 9,
   "id": "artistic-mounting",
   "metadata": {},
   "outputs": [
    {
     "data": {
      "text/plain": [
       "array([0.1439983 , 0.23851403, 0.2375301 ])"
      ]
     },
     "execution_count": 9,
     "metadata": {},
     "output_type": "execute_result"
    }
   ],
   "source": [
    "theta_corr.std(axis=0)"
   ]
  },
  {
   "cell_type": "markdown",
   "id": "loaded-oracle",
   "metadata": {},
   "source": [
    "__Question 5__\n",
    "\n",
    "Clearly, the high correlation between the dependent variables increases the variance of the OLS estimator!"
   ]
  },
  {
   "cell_type": "code",
   "execution_count": 10,
   "id": "figured-planning",
   "metadata": {},
   "outputs": [
    {
     "data": {
      "image/png": "[encoded data removed]",
      "text/plain": [
       "<Figure size 1152x360 with 2 Axes>"
      ]
     },
     "metadata": {
      "needs_background": "light"
     },
     "output_type": "display_data"
    }
   ],
   "source": [
    "\n",
    "fig,ax = plt.subplots(1, 2, figsize=(16, 5))\n",
    "\n",
    "ax1 = ax[0]\n",
    "\n",
    "ax1.scatter(theta_uncorr[:, 1], theta_uncorr[:, 2], color=\"blue\", alpha=0.5)\n",
    "\n",
    "ax1.set_xlabel('$\\\\hat{\\\\beta}_{x_1}$', size=15)\n",
    "ax1.set_ylabel('$\\\\hat{\\\\beta}_{x_2}$', size=15)\n",
    "ax1.set_title('Scatterplot: $\\\\hat{\\\\beta}_{x_1}$ vs. $\\\\hat{\\\\beta}_{x_2}$ for  $\\\\rho = 0.0$', size=15)\n",
    "\n",
    "ax2 = ax[1]\n",
    "\n",
    "ax2.scatter(theta_corr[:, 1], theta_corr[:, 2], color=\"blue\", alpha=0.5)\n",
    "\n",
    "ax2.set_xlabel('$\\\\hat{\\\\beta}_{x_1}$', size=15)\n",
    "ax2.set_ylabel('$\\\\hat{\\\\beta}_{x_2}$', size=15)\n",
    "ax2.set_title('Scatterplot: $\\\\hat{\\\\beta}_{x_1}$ vs. $\\\\hat{\\\\beta}_{x_2}$ for  $\\\\rho = 0.95$', size=15);"
   ]
  },
  {
   "cell_type": "markdown",
   "id": "beneficial-chicago",
   "metadata": {},
   "source": [
    "## Problem 2: Stability of optimal portfolio weights\n",
    "\n",
    "Consider three assets defined by the following information \n",
    "\n",
    "$$\n",
    "\\boldsymbol{\\mu}  = \\begin{bmatrix} 0.02 \\\\ 0.04 \\\\ 0.08 \\end{bmatrix}, \\; \\mathbf{v} = \\begin{bmatrix} 0.075 \\\\ 0.15 \\\\ 0.3 \\end{bmatrix}, \\; \\textbf{Corr} = \\begin{bmatrix} 1.0 & 0.0 & 0.0 \\\\\n",
    "                     0.0 & 1.0 & 0.0 \\\\\n",
    "                     0.0 & 0.0 & 1.0 \\end{bmatrix}\n",
    "$$\n",
    "\n",
    "where $\\boldsymbol{\\mu}$ denotes the expected (excess) return vector, $\\mathbf{v}$ denotes the volatility vector, and $\\textbf{Corr}$ is the correlation matrix. Note that the assets are uncorrelated.\n",
    "\n",
    "\n",
    "__Question 1__\n",
    "\n",
    "Calculate the covariance matrix, $\\boldsymbol{\\Sigma}$. One possibility is to use the trick \n",
    "\n",
    "$$\n",
    "\\boldsymbol{\\Sigma} = \\mathbf{v} \\mathbf{v}^\\top \\odot \\textbf{Corr}\n",
    "$$\n",
    "\n",
    "where $\\mathbf{v} \\mathbf{v}^\\top$ is the outer product and $\\odot$ denotes the element-by-element product (Hadamard product).  \n",
    "\n",
    "__Question 2__\n",
    "\n",
    "Assume that an investor seeks to maximize a quadratic utility function \n",
    "\n",
    "$$\n",
    "U(\\mathbf{w}) = \\mathbf{w}^\\top \\boldsymbol{\\mu} - \\frac{\\lambda}{2} \\mathbf{w}^\\top \\boldsymbol{\\Sigma} \\mathbf{w}\n",
    "$$\n",
    "\n",
    "The optimal portfolio weights are given by \n",
    "\n",
    "$$\n",
    "\\left. \\frac{\\partial U(\\mathbf{w})}{\\partial \\mathbf{w}} \\right \\vert_{\\mathbf{w} = \\mathbf{w}^*}= \\boldsymbol{\\mu} - \\frac{1}{\\lambda} \\boldsymbol{\\Sigma} \\mathbf{w}^* = 0 \\; \\Rightarrow \\mathbf{w}^* = \\lambda^{-1} \\boldsymbol{\\Sigma}^{-1}  \\boldsymbol{\\mu} \n",
    "$$\n",
    "\n",
    "Assume $\\lambda = 2$. Define a function that calculates the optimal weights with $\\boldsymbol{\\mu}$, $\\boldsymbol{\\Sigma}$ and $\\lambda$ as inputs. Calculate the optimal portfolio weights. \n",
    "\n",
    "__Question 3__\n",
    "\n",
    "The derivative of the optimal portfolio weights wrt. the expected return vector is given by \n",
    "\n",
    "$$\n",
    "\\frac{\\partial \\mathbf{w}^*}{\\partial \\boldsymbol{\\mu}} = \\lambda^{-1} \\boldsymbol{\\Sigma}^{-1}\n",
    "$$\n",
    "\n",
    "Define a function that calculates this derivative and calculate the derivative. What is the interpretation of the diagonal elements?\n",
    "\n",
    "__Question 4__\n",
    "\n",
    "Repeat question 1-3 when we assume that the assets are highly correlated\n",
    "\n",
    "$$\n",
    "\\textbf{Corr} = \\begin{bmatrix} 1.0 & 0.95& 0.95 \\\\\n",
    "                     0.95 & 1.0 & 0.95 \\\\\n",
    "                     0.95 & 0.95 & 1.0 \\end{bmatrix}\n",
    "$$\n",
    "\n",
    "__Question 5__\n",
    "\n",
    "Find the inverse of the covariance matrix for both of the two above cases. What do you note about the diagonal elements?"
   ]
  },
  {
   "cell_type": "markdown",
   "id": "proud-compilation",
   "metadata": {},
   "source": [
    "### Solution\n",
    "\n",
    "__Question 1__"
   ]
  },
  {
   "cell_type": "code",
   "execution_count": 11,
   "id": "peaceful-westminster",
   "metadata": {},
   "outputs": [
    {
     "data": {
      "text/plain": [
       "array([[0.005625, 0.      , 0.      ],\n",
       "       [0.      , 0.0225  , 0.      ],\n",
       "       [0.      , 0.      , 0.09    ]])"
      ]
     },
     "execution_count": 11,
     "metadata": {},
     "output_type": "execute_result"
    }
   ],
   "source": [
    "mu = np.array([0.02, 0.04, 0.08])\n",
    "vols = np.array([0.075, 0.15, 0.3])\n",
    "corr_mat = np.array([[1.0, 0.0, 0.0],\n",
    "                     [0.0, 1.0, 0.0],\n",
    "                     [0.0, 0.0, 1.0]])\n",
    "\n",
    "cov_mat = np.outer(vols, vols) * corr_mat\n",
    "cov_mat"
   ]
  },
  {
   "cell_type": "markdown",
   "id": "occupational-acrobat",
   "metadata": {},
   "source": [
    "__Question 2__"
   ]
  },
  {
   "cell_type": "code",
   "execution_count": 12,
   "id": "indirect-samuel",
   "metadata": {},
   "outputs": [],
   "source": [
    "def calculate_optimal_weights(mu: np.ndarray, cov_matrix: np.ndarray, risk_aversion: float) -> np.ndarray: \n",
    "    \n",
    "    \"\"\"\n",
    "    Function that calculates optimal port. weights\n",
    "    \n",
    "    Parameters\n",
    "    ----------\n",
    "    mu: \n",
    "        Expected returns\n",
    "    cov_matrix: \n",
    "        Covariance matrix\n",
    "    risk_aversion: \n",
    "        Risk aversion parameter\n",
    "    \n",
    "    Returns\n",
    "    -------\n",
    "    float\n",
    "        Optimal portfolio weights\n",
    "    \"\"\"\n",
    "    sigma_inv = np.linalg.inv(cov_matrix)\n",
    "    \n",
    "    opt_weights = sigma_inv @ mu / risk_aversion\n",
    "    \n",
    "    return opt_weights"
   ]
  },
  {
   "cell_type": "code",
   "execution_count": 13,
   "id": "dirty-upper",
   "metadata": {},
   "outputs": [
    {
     "data": {
      "text/plain": [
       "array([1.77777778, 0.88888889, 0.44444444])"
      ]
     },
     "execution_count": 13,
     "metadata": {},
     "output_type": "execute_result"
    }
   ],
   "source": [
    "risk_aversion = 2.0\n",
    "w_opt = calculate_optimal_weights(mu, cov_mat, risk_aversion)\n",
    "w_opt"
   ]
  },
  {
   "cell_type": "markdown",
   "id": "proved-angel",
   "metadata": {},
   "source": [
    "__Question 3__"
   ]
  },
  {
   "cell_type": "code",
   "execution_count": 14,
   "id": "associate-sleep",
   "metadata": {},
   "outputs": [],
   "source": [
    "def calculate_optimal_weights_derivative(cov_matrix: np.ndarray, risk_aversion: float) -> np.ndarray: \n",
    "    \n",
    "    \"\"\"\n",
    "    Function that calculates derivative of optimal port. weights wrt. mu\n",
    "    \n",
    "    Parameters\n",
    "    ----------\n",
    "    cov_matrix: \n",
    "        Covariance matrix\n",
    "    risk_aversion: \n",
    "        Risk aversion parameter\n",
    "    \n",
    "    Returns\n",
    "    -------\n",
    "    float\n",
    "        Optimal portfolio weights\n",
    "    \"\"\"\n",
    "    sigma_inv = np.linalg.inv(cov_matrix)\n",
    "    \n",
    "    opt_weights_derivative = sigma_inv / risk_aversion\n",
    "    \n",
    "    return opt_weights_derivative"
   ]
  },
  {
   "cell_type": "code",
   "execution_count": 15,
   "id": "familiar-saturday",
   "metadata": {},
   "outputs": [
    {
     "data": {
      "text/plain": [
       "array([[88.88888889,  0.        ,  0.        ],\n",
       "       [ 0.        , 22.22222222,  0.        ],\n",
       "       [ 0.        ,  0.        ,  5.55555556]])"
      ]
     },
     "execution_count": 15,
     "metadata": {},
     "output_type": "execute_result"
    }
   ],
   "source": [
    "w_opt_derivative = calculate_optimal_weights_derivative(cov_mat, risk_aversion)\n",
    "w_opt_derivative"
   ]
  },
  {
   "cell_type": "markdown",
   "id": "figured-vector",
   "metadata": {},
   "source": [
    "Increasing the expected return of the first asset with 1\\% will increase the allocation to the first asset with approx. 88.89\\%. \n",
    "\n",
    "__Question 4__"
   ]
  },
  {
   "cell_type": "code",
   "execution_count": 16,
   "id": "second-entity",
   "metadata": {},
   "outputs": [
    {
     "data": {
      "text/plain": [
       "array([[0.005625 , 0.0106875, 0.021375 ],\n",
       "       [0.0106875, 0.0225   , 0.04275  ],\n",
       "       [0.021375 , 0.04275  , 0.09     ]])"
      ]
     },
     "execution_count": 16,
     "metadata": {},
     "output_type": "execute_result"
    }
   ],
   "source": [
    "mu = np.array([0.02, 0.04, 0.08])\n",
    "vols = np.array([0.075, 0.15, 0.3])\n",
    "corr_mat = np.array([[1.0, 0.95, 0.95],\n",
    "                     [0.95, 1.0, 0.95],\n",
    "                     [0.95, 0.95, 1.0]])\n",
    "\n",
    "cov_mat_correlated = np.outer(vols, vols) * corr_mat\n",
    "cov_mat_correlated"
   ]
  },
  {
   "cell_type": "code",
   "execution_count": 17,
   "id": "driven-candidate",
   "metadata": {},
   "outputs": [
    {
     "data": {
      "text/plain": [
       "array([0.61302682, 0.30651341, 0.1532567 ])"
      ]
     },
     "execution_count": 17,
     "metadata": {},
     "output_type": "execute_result"
    }
   ],
   "source": [
    "w_opt = calculate_optimal_weights(mu, cov_mat_correlated, risk_aversion)\n",
    "w_opt"
   ]
  },
  {
   "cell_type": "code",
   "execution_count": 18,
   "id": "paperback-minutes",
   "metadata": {},
   "outputs": [
    {
     "data": {
      "text/plain": [
       "array([[1195.40229885, -291.18773946, -145.59386973],\n",
       "       [-291.18773946,  298.85057471,  -72.79693487],\n",
       "       [-145.59386973,  -72.79693487,   74.71264368]])"
      ]
     },
     "execution_count": 18,
     "metadata": {},
     "output_type": "execute_result"
    }
   ],
   "source": [
    "w_opt_derivative = calculate_optimal_weights_derivative(cov_mat_correlated, risk_aversion)\n",
    "w_opt_derivative"
   ]
  },
  {
   "cell_type": "markdown",
   "id": "better-middle",
   "metadata": {},
   "source": [
    "Increasing the expected return of the first asset with 1\\% will increase the allocation to the first asset with approx. 1195.40\\%. This illustrates that the sensitivity wrt. the expected return vector increases when the correlation between assets increases and that we need to worry more about the stability of the optimal weights when the correlation is larger. \n",
    "\n",
    "__Question 5__"
   ]
  },
  {
   "cell_type": "code",
   "execution_count": 19,
   "id": "latest-posting",
   "metadata": {},
   "outputs": [
    {
     "data": {
      "text/plain": [
       "array([[177.77777778,   0.        ,   0.        ],\n",
       "       [  0.        ,  44.44444444,   0.        ],\n",
       "       [  0.        ,   0.        ,  11.11111111]])"
      ]
     },
     "execution_count": 19,
     "metadata": {},
     "output_type": "execute_result"
    }
   ],
   "source": [
    "np.linalg.inv(cov_mat)"
   ]
  },
  {
   "cell_type": "code",
   "execution_count": 20,
   "id": "patent-clear",
   "metadata": {},
   "outputs": [
    {
     "data": {
      "text/plain": [
       "array([[2390.8045977 , -582.37547893, -291.18773946],\n",
       "       [-582.37547893,  597.70114943, -145.59386973],\n",
       "       [-291.18773946, -145.59386973,  149.42528736]])"
      ]
     },
     "execution_count": 20,
     "metadata": {},
     "output_type": "execute_result"
    }
   ],
   "source": [
    "np.linalg.inv(cov_mat_correlated)"
   ]
  },
  {
   "cell_type": "markdown",
   "id": "fantastic-portable",
   "metadata": {},
   "source": [
    "The diagonal elements of $\\boldsymbol{\\Sigma}^{-1}$ are much larger when the assets are correlated, which explain the difference in the derivative wrt. the expected return vector. The derivative is directly linked to the magnitude of the inverse of the covariance matrix. "
   ]
  },
  {
   "cell_type": "markdown",
   "id": "superb-decade",
   "metadata": {},
   "source": [
    "### Problem 3: Portfolio diversification\n",
    "\n",
    "Assume that an investor has a quadratic utility function \n",
    "\n",
    "$$\n",
    "U(\\mathbf{w}) = \\mathbf{w}^\\top \\boldsymbol{\\mu} - \\frac{\\lambda}{2} \\mathbf{w}^\\top \\boldsymbol{\\Sigma} \\mathbf{w}\n",
    "$$\n",
    "\n",
    "where $\\mathbf{w}$ is the portfolio weights, $\\boldsymbol{\\mu}$ is a vector of expected returns, and $\\boldsymbol{\\Sigma}$ denotes the covariance matrix. \n",
    "\n",
    "The investor seeks to maximize the utility given the constraint that the portfolio weights sum to one\n",
    "\n",
    "$$\n",
    "\\mathbf{1}^\\top \\mathbf{w} = 1\n",
    "$$\n",
    "\n",
    "The solution to this optimization problem is given by (see e.g. [Rebonato and Denev, \"Portfolio Management under stress\"](https://www.amazon.com/Portfolio-Management-under-Stress-Bayesian-Net/dp/1107048117))\n",
    "\n",
    "$$\n",
    "\\mathbf{w}^* = \\frac{1}{\\lambda} \\boldsymbol{\\Sigma}^{-1} \\boldsymbol{\\mu} - \\frac{1}{\\lambda} \\boldsymbol{\\Sigma}^{-1} \\mathbf{A}^\\top \\mathbf{C}^{-1} \\left(\\mathbf{A}\\boldsymbol{\\Sigma}^{-1}\\boldsymbol{\\mu}  - \\lambda \\mathbf{b} \\right)\n",
    "$$\n",
    "\n",
    "with $\\mathbf{A} = \\mathbf{1}^\\top$, $\\mathbf{b} = 1$, and $\\mathbf{C} = \\mathbf{A} \\boldsymbol{\\Sigma}^{-1}\\mathbf{A}^\\top$. Note that this solution is valid for more general constraints of the form $\\mathbf{A}^\\top \\mathbf{w} = \\mathbf{b}$. \n",
    "\n",
    "\n",
    "We assume that \n",
    "\n",
    "$$\n",
    "\\boldsymbol{\\mu}  = \\begin{bmatrix} 0.02 \\\\ 0.04 \\\\ 0.08 \\end{bmatrix}, \\; \\mathbf{v} = \\begin{bmatrix} 0.075 \\\\ 0.15 \\\\ 0.3 \\end{bmatrix}, \\; \\textbf{Corr} = \\begin{bmatrix} 1.0 & 0.2 & 0.1 \\\\\n",
    "                     0.2 & 1.0 & 0.4 \\\\\n",
    "                     0.1 & 0.4 & 1.0 \\end{bmatrix}\n",
    "$$\n",
    "\n",
    "\n",
    "__Question 1__\n",
    "\n",
    "Calculate the covariance matrix. One possibility is to use the trick \n",
    "\n",
    "$$\n",
    "\\boldsymbol{\\Sigma} = \\mathbf{v} \\mathbf{v}^\\top \\odot \\textbf{Corr}\n",
    "$$\n",
    "\n",
    "where $\\mathbf{v} \\mathbf{v}^\\top$ is the outer product and $\\odot$ denotes the element-by-element product (Hadamard product).  \n",
    "\n",
    "\n",
    "__Question 2__\n",
    "\n",
    "Define a function that calculates the optimal weights. The function should take three inputs: expected value, covariance matrix and risk aversion. \n",
    "\n",
    "Calculate the optimal weights when $\\lambda = 5$. \n",
    "\n",
    "__Question 3__\n",
    "\n",
    "Define a function that calculates the relative risk contributions. The function should take two inputs: portfolio weights and the covariance matrix. Calculate the relative risk contribution using the optimal weights from question 2. \n",
    "\n",
    "Note that we in the lectures defined the risk contribution as\n",
    "\n",
    "$$\n",
    "\\text{RC}_i(\\mathbf{w}) = w_i \\frac{\\partial \\sigma_P(\\mathbf{w}) }{\\partial w_i} = w_i \\frac{(\\boldsymbol{\\Sigma} \\mathbf{w})_i }{\\sqrt{\\mathbf{w}^\\top \\boldsymbol{\\Sigma} \\mathbf{w}}}\n",
    "$$\n",
    "\n",
    "Dividing with the portfolio standard deviation gives us the relative risk contribution \n",
    "\n",
    "$$\n",
    "\\text{RRC}_i(\\mathbf{w}) =  w_i \\frac{(\\boldsymbol{\\Sigma} \\mathbf{w})_i }{\\sqrt{\\mathbf{w}^\\top \\boldsymbol{\\Sigma} \\mathbf{w}}} \\frac{1}{\\sqrt{ \\mathbf{w}^\\top \\boldsymbol{\\Sigma} \\mathbf{w}}}\n",
    "$$\n",
    "\n",
    "\n",
    "\n",
    "__Question 4__\n",
    "\n",
    "Calculate the optimal weights and the corresponding relative risk contribution for 100 values of the risk aversion parameter in the interval $\\lambda \\in [0.001, 0.8]$?\n",
    "\n",
    "Note that one could make a for loop that for each value of the risk aversion parameter in `risk_aversions` created using `np.linspace(0.001, 0.8, 100)` calculates the optimal weights and relative risk contribution and store them in `optimal_weights = np.zeros((3, len(risk_aversions)))` and `rel_risk_contribs = np.zeros((3, len(risk_aversions)))`. \n",
    "\n",
    "\n",
    "__Question 5__\n",
    "\n",
    "Use a [stackplot](https://matplotlib.org/stable/gallery/lines_bars_and_markers/stackplot_demo.html) to plot the optimal weights and the relative risk contributions for each value of $\\lambda$ (two different plots). The code should look something like when plotting the optimal weights\n",
    "\n",
    "```python\n",
    "import matplotlib.pyplot as plt\n",
    "\n",
    "fig, ax = plt.subplots(figsize=(10, 5))\n",
    "ax.stackplot(risk_aversions, optimal_weights, labels=['Asset 1', 'Asset 2', 'Asset 3']); \n",
    "ax.set_xlabel('$\\\\lambda$')\n",
    "ax.set_ylabel('$w$')\n",
    "ax.set_title('Optimal weights')\n",
    "ax.legend(loc='upper left')\n",
    "```"
   ]
  },
  {
   "cell_type": "markdown",
   "id": "willing-reasoning",
   "metadata": {},
   "source": [
    "### Solution\n",
    "\n",
    "__Question 1__\n"
   ]
  },
  {
   "cell_type": "code",
   "execution_count": 21,
   "id": "herbal-ranch",
   "metadata": {},
   "outputs": [
    {
     "data": {
      "text/plain": [
       "array([[0.005625, 0.00225 , 0.00225 ],\n",
       "       [0.00225 , 0.0225  , 0.018   ],\n",
       "       [0.00225 , 0.018   , 0.09    ]])"
      ]
     },
     "execution_count": 21,
     "metadata": {},
     "output_type": "execute_result"
    }
   ],
   "source": [
    "mu = np.array([0.02, 0.04, 0.08])\n",
    "vols = np.array([0.075, 0.15, 0.3])\n",
    "corr_mat = np.array([[1.0, 0.2, 0.1],\n",
    "                     [0.2, 1.0, 0.4],\n",
    "                     [0.1, 0.4, 1.0]])\n",
    "\n",
    "cov_mat = np.outer(vols, vols) * corr_mat\n",
    "cov_mat"
   ]
  },
  {
   "cell_type": "markdown",
   "id": "assigned-carpet",
   "metadata": {},
   "source": [
    "__Question 2__"
   ]
  },
  {
   "cell_type": "code",
   "execution_count": 45,
   "id": "objective-serum",
   "metadata": {},
   "outputs": [],
   "source": [
    "\"\"\"\n",
    "Define quadratic utility function \n",
    "\"\"\"\n",
    "\n",
    "def quadratic_utility(weights: np.ndarray, mu: np.ndarray, cov_matrix: np.ndarray, risk_aversion: float) -> float:\n",
    "    \n",
    "    \"\"\"\n",
    "    Function that returns the quadratic utility of a given allocation\n",
    "    \n",
    "    Parameters\n",
    "    ----------\n",
    "    weights: \n",
    "        Portfolio weights\n",
    "    mu: \n",
    "        Expected returns\n",
    "    cov_matrix: \n",
    "        Covariance matrix\n",
    "    risk_aversion: \n",
    "        Risk aversion parameter\n",
    "    \n",
    "    Returns\n",
    "    -------\n",
    "    float\n",
    "        Utility\n",
    "    \"\"\"\n",
    "    return weights @ mu - 0.5 * risk_aversion * weights @ cov_matrix @ weights\n",
    "\n",
    "\"\"\"\n",
    "Define optimal weights function\n",
    "\"\"\"\n",
    "\n",
    "def calculate_optimal_weights(mu: np.ndarray, cov_matrix: np.ndarray, risk_aversion: float) -> np.ndarray: \n",
    "    \n",
    "    \"\"\"\n",
    "    Function that calculates optimal port. weights\n",
    "    \n",
    "    Parameters\n",
    "    ----------\n",
    "    mu: \n",
    "        Expected returns\n",
    "    cov_matrix: \n",
    "        Covariance matrix\n",
    "    risk_aversion: \n",
    "        Risk aversion parameter\n",
    "    \n",
    "    Returns\n",
    "    -------\n",
    "    float\n",
    "        Optimal portfolio weights\n",
    "    \"\"\"\n",
    "    sigma_inv = np.linalg.inv(cov_matrix)\n",
    "    A = np.ones_like(mu)\n",
    "    C = A @ sigma_inv @ A\n",
    "    C_inv = 1.0 / C\n",
    "    b = 1.0\n",
    "    \n",
    "    first_part = 1.0 / risk_aversion * sigma_inv @ mu \n",
    "    second_part = 1.0 / risk_aversion * sigma_inv @ A * C_inv * (A @ sigma_inv @ mu - risk_aversion * b)\n",
    "    \n",
    "    opt_weights = first_part - second_part\n",
    "    \n",
    "    return opt_weights\n",
    "\n",
    "def calculate_optimal_weights_alternative(mu: np.ndarray, cov_matrix: np.ndarray, risk_aversion: float) -> np.ndarray: \n",
    "    \n",
    "    \"\"\"\n",
    "    Function that calculates optimal port. weights\n",
    "    \n",
    "    Parameters\n",
    "    ----------\n",
    "    mu: \n",
    "        Expected returns\n",
    "    cov_matrix: \n",
    "        Covariance matrix\n",
    "    risk_aversion: \n",
    "        Risk aversion parameter\n",
    "    \n",
    "    Returns\n",
    "    -------\n",
    "    float\n",
    "        Optimal portfolio weights\n",
    "    \"\"\"\n",
    "    \n",
    "    ones = np.ones_like(mu)\n",
    "    sigma_inv = np.linalg.inv(cov_matrix)\n",
    "    \n",
    "    a = ones @  sigma_inv @ mu\n",
    "    b = ones @  sigma_inv @ ones\n",
    "    \n",
    "    r_inv = 1.0 / risk_aversion\n",
    "    \n",
    "    gamma = a / b - risk_aversion / b \n",
    "    \n",
    "    opt_weights = r_inv * sigma_inv @mu - r_inv * gamma * sigma_inv @ ones\n",
    "    \n",
    "    return opt_weights\n"
   ]
  },
  {
   "cell_type": "code",
   "execution_count": 46,
   "id": "universal-construction",
   "metadata": {},
   "outputs": [
    {
     "name": "stdout",
     "output_type": "stream",
     "text": [
      "optimal weights: \n"
     ]
    },
    {
     "data": {
      "text/plain": [
       "array([0.66414857, 0.2115203 , 0.12433113])"
      ]
     },
     "execution_count": 46,
     "metadata": {},
     "output_type": "execute_result"
    }
   ],
   "source": [
    "risk_aversion = 5\n",
    "print(\"optimal weights: \")\n",
    "w_opt = calculate_optimal_weights(mu, cov_mat, risk_aversion)\n",
    "w_opt"
   ]
  },
  {
   "cell_type": "markdown",
   "id": "jewish-bristol",
   "metadata": {},
   "source": [
    "__Question 3__"
   ]
  },
  {
   "cell_type": "code",
   "execution_count": 70,
   "id": "twelve-intersection",
   "metadata": {},
   "outputs": [],
   "source": [
    "def calculate_marginal_risks(weights: np.ndarray, cov_matrix: np.ndarray) -> np.ndarray:\n",
    "    \n",
    "    \"\"\"\n",
    "    Function that calculates marginal risk\n",
    "    Parameters\n",
    "    ----------\n",
    "    weights: \n",
    "        Portfolio weights\n",
    "    cov_matrix: \n",
    "        Covariance matrix\n",
    "    \n",
    "    Returns\n",
    "    -------\n",
    "    np.ndarray\n",
    "        Marginal risks\n",
    "    \"\"\"\n",
    "    \n",
    "    total_risk = np.sqrt(weights @ cov_matrix @ weights)\n",
    "    inner_derivative = cov_matrix @ weights\n",
    "    \n",
    "    return inner_derivative / total_risk\n",
    "\n",
    "def calculate_risk_contributions(weights: np.ndarray, cov_matrix: np.ndarray) -> np.ndarray:\n",
    "    \n",
    "    \"\"\"\n",
    "    Function that calculates risk contributions\n",
    "    \n",
    "    Parameters\n",
    "    ----------\n",
    "    weights: \n",
    "        Portfolio weights\n",
    "    cov_matrix: \n",
    "        Covariance matrix\n",
    "    \n",
    "    Returns\n",
    "    -------\n",
    "    np.ndarray\n",
    "        Marginal risks\n",
    "    \"\"\"\n",
    "    \n",
    "    mr = calculate_marginal_risks(weights, cov_matrix)\n",
    "    \n",
    "    return weights * mr\n",
    "\n",
    "def calculate_relative_risk_contributions(weights: np.ndarray, cov_matrix: np.ndarray) -> np.ndarray:\n",
    "    \n",
    "    \"\"\"\n",
    "    Function that calculates relative risk contributions\n",
    "    \n",
    "    Parameters\n",
    "    ----------\n",
    "    weights: \n",
    "        Portfolio weights\n",
    "    cov_matrix: \n",
    "        Covariance matrix\n",
    "    \n",
    "    Returns\n",
    "    -------\n",
    "    np.ndarray\n",
    "        Marginal risks\n",
    "    \"\"\"\n",
    "    \n",
    "    return calculate_risk_contributions(weights, cov_matrix) / np.sqrt(weights @ cov_matrix @ weights)"
   ]
  },
  {
   "cell_type": "code",
   "execution_count": 71,
   "id": "smoking-layout",
   "metadata": {},
   "outputs": [
    {
     "name": "stdout",
     "output_type": "stream",
     "text": [
      "relative risk contribution: \n"
     ]
    },
    {
     "data": {
      "text/plain": [
       "array([0.43678156, 0.26299292, 0.30022551])"
      ]
     },
     "execution_count": 71,
     "metadata": {},
     "output_type": "execute_result"
    }
   ],
   "source": [
    "print(\"relative risk contribution: \")\n",
    "rel_risk_contrib = calculate_relative_risk_contributions(w_opt, cov_mat)\n",
    "rel_risk_contrib"
   ]
  },
  {
   "cell_type": "markdown",
   "id": "chemical-killing",
   "metadata": {},
   "source": [
    "__Question 4__"
   ]
  },
  {
   "cell_type": "code",
   "execution_count": 72,
   "id": "beneficial-attempt",
   "metadata": {},
   "outputs": [],
   "source": [
    "risk_aversions = np.linspace(0.001, 0.8, 100)\n",
    "optimal_weights = np.zeros((3, len(risk_aversions)))\n",
    "rel_risk_contribs = np.zeros((3, len(risk_aversions)))\n",
    "\n",
    "for _, risk_aversion in enumerate(risk_aversions):\n",
    "    optimal_weights[:, _] = calculate_optimal_weights(mu, cov_mat, risk_aversion)\n",
    "    rel_risk_contribs[:, _] = calculate_relative_risk_contributions(optimal_weights[:, _], cov_mat)"
   ]
  },
  {
   "cell_type": "markdown",
   "id": "strategic-judge",
   "metadata": {},
   "source": [
    "__Question 5__"
   ]
  },
  {
   "cell_type": "code",
   "execution_count": 73,
   "id": "broken-audio",
   "metadata": {},
   "outputs": [
    {
     "data": {
      "image/png": "[encoded data removed]",
      "text/plain": [
       "<Figure size 720x360 with 1 Axes>"
      ]
     },
     "metadata": {
      "needs_background": "light"
     },
     "output_type": "display_data"
    }
   ],
   "source": [
    "\"\"\"\n",
    "Optimal weights\n",
    "\"\"\"\n",
    "fig, ax = plt.subplots(figsize=(10, 5))\n",
    "ax.stackplot(risk_aversions, optimal_weights, labels=['Asset 1', 'Asset 2', 'Asset 3']); \n",
    "ax.set_xlabel('$\\\\lambda$')\n",
    "ax.set_ylabel('$w$')\n",
    "ax.set_title('Optimal weights')\n",
    "ax.legend(loc='upper left');"
   ]
  },
  {
   "cell_type": "code",
   "execution_count": 74,
   "id": "thrown-gregory",
   "metadata": {},
   "outputs": [
    {
     "data": {
      "image/png": "[encoded data removed]",
      "text/plain": [
       "<Figure size 720x360 with 1 Axes>"
      ]
     },
     "metadata": {
      "needs_background": "light"
     },
     "output_type": "display_data"
    }
   ],
   "source": [
    "\"\"\"\n",
    "Optimal weights\n",
    "\"\"\"\n",
    "fig, ax = plt.subplots(figsize=(10, 5))\n",
    "ax.stackplot(risk_aversions, rel_risk_contribs, labels=['Asset 1', 'Asset 2', 'Asset 3']); \n",
    "ax.set_xlabel('$\\\\lambda$')\n",
    "ax.set_ylabel('$RRC_i$')\n",
    "ax.set_title('Relative risk contribution')\n",
    "ax.legend(loc='upper left');\n",
    " "
   ]
  },
  {
   "cell_type": "markdown",
   "id": "precise-stanley",
   "metadata": {},
   "source": [
    "The analysis shows us that looking only at portfolio weights may be misleading when trying to understand the risk drivers of the portfolio. "
   ]
  },
  {
   "cell_type": "markdown",
   "id": "enabling-exhibition",
   "metadata": {},
   "source": [
    "### Check formula\n"
   ]
  },
  {
   "cell_type": "code",
   "execution_count": 51,
   "id": "fleet-complex",
   "metadata": {},
   "outputs": [
    {
     "data": {
      "text/plain": [
       "array([0.66416497, 0.211526  , 0.12430902])"
      ]
     },
     "execution_count": 51,
     "metadata": {},
     "output_type": "execute_result"
    }
   ],
   "source": [
    "objective = lambda w: -quadratic_utility(w, mu, cov_mat, 5)\n",
    "\n",
    "sum_to_on_constraint = {'type': 'eq', 'fun': lambda w: np.sum(w) - 1.0}\n",
    "\n",
    "res = minimize(objective, [0.0/3.0, 1.0/3.0, 2.0/3.0], constraints=sum_to_on_constraint)\n",
    "res.x"
   ]
  },
  {
   "cell_type": "markdown",
   "id": "hourly-passion",
   "metadata": {},
   "source": [
    "# References\n",
    "\n",
    "\n",
    "\n",
    "## Books\n",
    "\n",
    "[Riccardo Rebonato and Alexander Denev, \"Portfolio Management under stress\"](https://www.amazon.com/Portfolio-Management-under-Stress-Bayesian-Net/dp/1107048117)"
   ]
  }
 ],
 "metadata": {
  "kernelspec": {
   "display_name": "python_for_fin_econ",
   "language": "python",
   "name": "python_for_fin_econ"
  },
  "language_info": {
   "codemirror_mode": {
    "name": "ipython",
    "version": 3
   },
   "file_extension": ".py",
   "mimetype": "text/x-python",
   "name": "python",
   "nbconvert_exporter": "python",
   "pygments_lexer": "ipython3",
   "version": "3.8.6"
  }
 },
 "nbformat": 4,
 "nbformat_minor": 5
}
