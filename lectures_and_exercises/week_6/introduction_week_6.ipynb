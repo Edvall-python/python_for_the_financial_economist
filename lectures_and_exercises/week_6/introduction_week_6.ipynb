{
 "cells": [
  {
   "cell_type": "markdown",
   "id": "sustainable-funds",
   "metadata": {},
   "source": [
    "# Week 3: Something about distributions"
   ]
  },
  {
   "cell_type": "markdown",
   "id": "domestic-split",
   "metadata": {},
   "source": [
    "## Introduction to Python \n",
    "\n",
    "DataCamp will be used throughout the course to introduce relevent Python concepts. All students attending the course should be able to sign up, free-of-charge, to [DataCamp](https://learn.datacamp.com). \n",
    "\n",
    "\n",
    "During the first week, I have assigned the track [Python Fundamentals](https://learn.datacamp.com/skill-tracks/python-fundamentals) which will introduce data types, functions, packages, etc. \n",
    "\n"
   ]
  },
  {
   "cell_type": "markdown",
   "id": "ahead-rebound",
   "metadata": {},
   "source": [
    "## Lectures and exercises\n",
    "\n",
    "The **lectures** will introduce concepts related to measuring risk of a portfolio including \n",
    "\n",
    "* Risk measures\n",
    "* Allocating diversification benefits\n",
    "\n",
    "The **exercises** will ask the students to make small functions in Python using the `numpy` package. The exercises will look at \n",
    "\n",
    "* Simulation study with the Ordinary Least Squares (OLS) estimator\n",
    "* Stability of optimal portfolio weights \n",
    "* Portfolio diversification "
   ]
  }
 ],
 "metadata": {
  "kernelspec": {
   "display_name": "python_for_fin_econ",
   "language": "python",
   "name": "python_for_fin_econ"
  },
  "language_info": {
   "codemirror_mode": {
    "name": "ipython",
    "version": 3
   },
   "file_extension": ".py",
   "mimetype": "text/x-python",
   "name": "python",
   "nbconvert_exporter": "python",
   "pygments_lexer": "ipython3",
   "version": "3.8.6"
  }
 },
 "nbformat": 4,
 "nbformat_minor": 5
}
