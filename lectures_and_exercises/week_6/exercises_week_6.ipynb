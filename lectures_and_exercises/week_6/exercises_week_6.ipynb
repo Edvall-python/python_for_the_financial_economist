{
 "cells": [
  {
   "cell_type": "code",
   "execution_count": 1,
   "id": "personal-retention",
   "metadata": {},
   "outputs": [],
   "source": [
    "import sys\n",
    "sys.path.insert(0,'C:\\\\code\\\\python_for_the_financial_economist\\\\')\n",
    "\n",
    "\"\"\"\n",
    "Magic commands\n",
    "\"\"\"\n",
    "\n",
    "%load_ext autoreload\n",
    "%autoreload 2\n",
    "\n",
    "\"\"\"\n",
    "Load relevant packages\n",
    "\"\"\"\n",
    "\n",
    "import numpy as np\n",
    "import pandas as pd\n",
    "import matplotlib.pyplot as plt\n",
    "import matplotlib.ticker as mtick\n",
    "from matplotlib import animation, cm\n",
    "import seaborn as sns\n",
    "import datetime\n",
    "from scipy import stats\n",
    "from scipy import optimize\n",
    "\n",
    "from pandas_datareader.data import DataReader\n",
    "from pandas_datareader.famafrench import FamaFrenchReader, get_available_datasets\n",
    "\n",
    "from statsmodels.tools.numdiff import approx_fprime, approx_hess\n",
    "\n",
    "from typing import Union, List\n",
    "\n",
    "\"\"\"\n",
    "Own packages\n",
    "\"\"\"\n",
    "from codelib.dal.fred_yield_data import get_nominal_yield_data\n",
    "\n",
    "from codelib.visualization.base import correlation_plot\n",
    "from codelib.visualization.layout import DefaultStyle\n",
    "DefaultStyle();"
   ]
  },
  {
   "cell_type": "markdown",
   "id": "streaming-vertex",
   "metadata": {},
   "source": [
    "# Exercises - Week 5\n",
    "\n",
    "In this week we will look at a few exercises that \n",
    "\n"
   ]
  },
  {
   "cell_type": "markdown",
   "id": "tender-forestry",
   "metadata": {},
   "source": [
    "## Problem 1: Recession forecasting \n",
    "\n",
    "__Note:__ We follow the exposition of [Nyberg (2010)](https://onlinelibrary-wiley-com.esc-web.lib.cbs.dk:8443/doi/abs/10.1002/for.1161)\n",
    "\n",
    "In this exercise, we will explore a simple model for forecasting US recessions. Among other things, we will look at the evidence for the yield spread being a predictor of recessions as often mentioned in financial news (and the academic literature). \n",
    "\n",
    "We are interested in prediciting the recession indicator $y_t, \\; t=1,..., T$ which is a binary dependent variable that is defined by\n",
    "\n",
    "$$\n",
    "y_t = \\left\\{ \\begin{matrix}\n",
    "                1, & \\text{if the economy is in a recessionary state at time } t \\\\ \n",
    "                0, & \\text{if the economy is in a expansionary state at time } t\n",
    "              \\end{matrix}  \\right.\n",
    "$$\n",
    "\n",
    "The probability of the dependent variable taking the value $1$ is given by $p_t$ specified as \n",
    "\n",
    "$$\n",
    "p_t = \\text{Prob}_{t-1}[y_t = 1] = \\Phi(\\pi_{t})\n",
    "$$\n",
    "\n",
    "where $\\Phi()$ is the cdf of a standard normal. $\\pi_{t}$ is included in the information set at time $t-1$. This model is known as a [Probit model](https://en.wikipedia.org/wiki/Probit_model). \n",
    "\n",
    "A model not taking the dynamic structure into account is given by the static formulation ($k \\leq 1$ must be larger than the forecast horizon) \n",
    "\n",
    "$$\n",
    "\\pi_{t} = \\mathbf{x}_{t-k}^\\top \\beta\n",
    "$$\n",
    "\n",
    "A dynamic structure can be implemented as ($l \\leq 1$)\n",
    "\n",
    "$$\n",
    "\\pi_{t} = \\mathbf{x}_{t-k}^\\top \\beta + \\delta y_{t-l}\n",
    "$$\n",
    "\n",
    "A dynamic autoregressive model can be implemented as \n",
    "\n",
    "$$\n",
    "\\pi_{t} = \\mathbf{x}_{t-k}^\\top \\beta + \\delta y_{t-l} + \\alpha \\pi_{t-1}\n",
    "$$\n",
    "\n",
    "__Question 1__\n",
    "\n",
    "Get recession indicators ('USREC') and yield spread ('T10YFF') from the FRED database from the beginning of 1983. Plot the yield spread together with the recession indicators. \n",
    "\n",
    "__Question 2__\n",
    "\n",
    "First, we will consider a model where we solely use the yield spread (and a constant) to predict recessions. To that end, we need to define the likelihood function. \n",
    "\n",
    "The conditional probability function is given by\n",
    "\n",
    "$$\n",
    "f_{Y_t}(y_t \\vert \\mathbf{x}_t, \\mathbf{x}_{t-1},..., y_{t-1},...; \\theta)   = p_t^{y_t} (1 - p_t)^{1 - y_t} = \\Phi(\\pi_{t})^{y_t} (1 - \\Phi(\\pi_{t}))^{1 - y_t}\n",
    "$$\n",
    "\n",
    "We can therefore write the (conditional) likelihood function as \n",
    "\n",
    "$$\n",
    "L_T(\\theta) = \\prod_{t=1}^T \\Phi(\\pi_{t})^{y_t} (1 - \\Phi(\\pi_{t}))^{1 - y_t}\n",
    "$$\n",
    "\n",
    "\n",
    "and the log-likelihood function as \n",
    "\n",
    "$$\n",
    "\\mathcal{L}_{T}(\\theta) = \\sum_{t=1}^T q_t(y_t, \\mathbf{x}_t; \\theta) = \\sum_{t=1}^T \\left[y_t \\ln \\Phi(\\pi_{t}) + (1-y_t) \\ln (1 - \\Phi(\\pi_{t}))  \\right]\n",
    "$$\n",
    "\n",
    "Assume that $\\pi_{t} = \\mathbf{x}_{t-k}^\\top \\beta$ with $\\mathbf{x}_{t-k} = [1, ys_{t-k}]^\\top$ where $ys_{t}$ is the yield-spread at time $t$. Consider $k=6$. Estimate the model using maximum-likelihood. \n",
    "\n",
    "\n",
    "__Question 3__\n",
    "\n",
    "Derive the expressions for\n",
    "\n",
    "$$\n",
    "\\begin{align}\n",
    "\\frac{1}{n} \\sum_{i=1}^n  \\frac{\\partial^2 q_t(y_t, \\mathbf{x}_t; \\theta)}{\\partial \\theta \\partial \\theta^\\top}  \\\\\n",
    "\\frac{1}{n} \\sum_{i=1}^n \\frac{\\partial q_t(y_t, \\mathbf{x}_t; \\theta)}{\\partial \\theta } \\frac{\\partial q_t(y_t, \\mathbf{x}_t; \\theta)}{\\partial \\theta^\\top }  \n",
    "\\end{align}\n",
    "$$\n",
    "when considering the static model. It may be usefull to remember that \n",
    "\n",
    "$$\n",
    "\\frac{\\partial \\Phi(\\pi_t)}{\\partial \\theta} = \\phi(\\pi_t) \\frac{\\partial \\pi_t}{\\partial \\theta}  = \\phi(\\pi_t) \\mathbf{x}_{t-k}\n",
    "$$\n",
    "\n",
    "where $\\phi(\\pi_t)$ is the density of a standard normal and \n",
    "\n",
    "$$\n",
    "\\frac{\\partial \\phi(\\pi_t)}{\\partial \\theta} = -\\phi(\\pi_t) \\pi_t \\frac{\\partial \\pi_t}{\\partial \\theta}\n",
    "$$\n",
    "\n",
    "Implement functions that calculate these quantities. \n",
    "\n",
    "__Question 4__\n",
    "\n",
    "Calculate the standard errors analytically and numerically. \n",
    "\n",
    "__Quesiton 5__\n",
    "\n",
    "Check the results using `statsmodels`. Are the parameters significant at a 5\\% significance level?\n",
    "\n",
    "__Question 6__\n",
    "\n",
    "Implement and estimate the dynamic model.\n",
    "\n",
    "$$\n",
    "\\pi_{t} = \\mathbf{x}_{t-k}^\\top \\beta + \\delta y_{t-l}\n",
    "$$\n",
    "\n",
    "__Question 7__\n",
    "\n",
    "Implement and estimate the autoregressive model.\n",
    "\n",
    "$$\n",
    "\\pi_{t} = \\mathbf{x}_{t-k}^\\top \\beta  + \\alpha \\pi_{t-1}\n",
    "$$\n",
    "\n",
    "__Note:__ We have only considered in-sample results which may not work out-of-sample. \n",
    "\n",
    "### Solution\n",
    "\n",
    "__Question 1__\n"
   ]
  },
  {
   "cell_type": "code",
   "execution_count": 2,
   "id": "interim-signal",
   "metadata": {},
   "outputs": [],
   "source": [
    "df_data = DataReader(['USREC', 'T10YFF', 'T10Y3M'], 'fred', start=datetime.date(1983,1,1))"
   ]
  },
  {
   "cell_type": "code",
   "execution_count": 3,
   "id": "suitable-mexico",
   "metadata": {},
   "outputs": [
    {
     "data": {
      "text/html": [
       "<div>\n",
       "<style scoped>\n",
       "    .dataframe tbody tr th:only-of-type {\n",
       "        vertical-align: middle;\n",
       "    }\n",
       "\n",
       "    .dataframe tbody tr th {\n",
       "        vertical-align: top;\n",
       "    }\n",
       "\n",
       "    .dataframe thead th {\n",
       "        text-align: right;\n",
       "    }\n",
       "</style>\n",
       "<table border=\"1\" class=\"dataframe\">\n",
       "  <thead>\n",
       "    <tr style=\"text-align: right;\">\n",
       "      <th></th>\n",
       "      <th>USREC</th>\n",
       "      <th>T10YFF</th>\n",
       "      <th>T10Y3M</th>\n",
       "    </tr>\n",
       "    <tr>\n",
       "      <th>DATE</th>\n",
       "      <th></th>\n",
       "      <th></th>\n",
       "      <th></th>\n",
       "    </tr>\n",
       "  </thead>\n",
       "  <tbody>\n",
       "    <tr>\n",
       "      <th>1983-01-01</th>\n",
       "      <td>0.0</td>\n",
       "      <td>NaN</td>\n",
       "      <td>NaN</td>\n",
       "    </tr>\n",
       "    <tr>\n",
       "      <th>1983-01-03</th>\n",
       "      <td>NaN</td>\n",
       "      <td>1.13</td>\n",
       "      <td>2.15</td>\n",
       "    </tr>\n",
       "    <tr>\n",
       "      <th>1983-01-04</th>\n",
       "      <td>NaN</td>\n",
       "      <td>0.90</td>\n",
       "      <td>2.09</td>\n",
       "    </tr>\n",
       "    <tr>\n",
       "      <th>1983-01-05</th>\n",
       "      <td>NaN</td>\n",
       "      <td>1.89</td>\n",
       "      <td>2.10</td>\n",
       "    </tr>\n",
       "    <tr>\n",
       "      <th>1983-01-06</th>\n",
       "      <td>NaN</td>\n",
       "      <td>1.91</td>\n",
       "      <td>2.19</td>\n",
       "    </tr>\n",
       "    <tr>\n",
       "      <th>...</th>\n",
       "      <td>...</td>\n",
       "      <td>...</td>\n",
       "      <td>...</td>\n",
       "    </tr>\n",
       "    <tr>\n",
       "      <th>2021-09-13</th>\n",
       "      <td>NaN</td>\n",
       "      <td>1.25</td>\n",
       "      <td>1.27</td>\n",
       "    </tr>\n",
       "    <tr>\n",
       "      <th>2021-09-14</th>\n",
       "      <td>NaN</td>\n",
       "      <td>1.20</td>\n",
       "      <td>1.24</td>\n",
       "    </tr>\n",
       "    <tr>\n",
       "      <th>2021-09-15</th>\n",
       "      <td>NaN</td>\n",
       "      <td>1.23</td>\n",
       "      <td>1.27</td>\n",
       "    </tr>\n",
       "    <tr>\n",
       "      <th>2021-09-16</th>\n",
       "      <td>NaN</td>\n",
       "      <td>1.26</td>\n",
       "      <td>1.30</td>\n",
       "    </tr>\n",
       "    <tr>\n",
       "      <th>2021-09-17</th>\n",
       "      <td>NaN</td>\n",
       "      <td>NaN</td>\n",
       "      <td>1.33</td>\n",
       "    </tr>\n",
       "  </tbody>\n",
       "</table>\n",
       "<p>10234 rows × 3 columns</p>\n",
       "</div>"
      ],
      "text/plain": [
       "            USREC  T10YFF  T10Y3M\n",
       "DATE                             \n",
       "1983-01-01    0.0     NaN     NaN\n",
       "1983-01-03    NaN    1.13    2.15\n",
       "1983-01-04    NaN    0.90    2.09\n",
       "1983-01-05    NaN    1.89    2.10\n",
       "1983-01-06    NaN    1.91    2.19\n",
       "...           ...     ...     ...\n",
       "2021-09-13    NaN    1.25    1.27\n",
       "2021-09-14    NaN    1.20    1.24\n",
       "2021-09-15    NaN    1.23    1.27\n",
       "2021-09-16    NaN    1.26    1.30\n",
       "2021-09-17    NaN     NaN    1.33\n",
       "\n",
       "[10234 rows x 3 columns]"
      ]
     },
     "execution_count": 3,
     "metadata": {},
     "output_type": "execute_result"
    }
   ],
   "source": [
    "df_data"
   ]
  },
  {
   "cell_type": "code",
   "execution_count": 4,
   "id": "approximate-checklist",
   "metadata": {},
   "outputs": [],
   "source": [
    "df_data_monthly = df_data.resample('M').first().dropna()\n",
    "df_data_monthly.index = df_data['USREC'].dropna().index"
   ]
  },
  {
   "cell_type": "code",
   "execution_count": 5,
   "id": "identical-spyware",
   "metadata": {},
   "outputs": [
    {
     "data": {
      "image/png": "[encoded data removed]",
      "text/plain": [
       "<Figure size 720x360 with 1 Axes>"
      ]
     },
     "metadata": {
      "needs_background": "light"
     },
     "output_type": "display_data"
    }
   ],
   "source": [
    "nber_recessions = df_data_monthly['USREC'].dropna()\n",
    "\n",
    "# get start and end dates of recessions\n",
    "change_nber = nber_recessions - nber_recessions.shift(1)\n",
    "start_dates = change_nber[change_nber==1.0].index.to_list()\n",
    "end_dates = change_nber[change_nber==-1.0].index.to_list()\n",
    "\n",
    "ax = df_data_monthly['T10YFF'].plot(figsize=(10,5));\n",
    "ax.set_ylabel('Term spread (in %)');\n",
    "ax.set_xlabel('');\n",
    "for s, e in zip(start_dates, end_dates):\n",
    "    ax.axvspan(s, e, color=\"grey\", alpha=0.2)"
   ]
  },
  {
   "cell_type": "markdown",
   "id": "applicable-evening",
   "metadata": {},
   "source": [
    "__Question 2__\n",
    "\n",
    "First, we implement the log-likelihood function "
   ]
  },
  {
   "cell_type": "code",
   "execution_count": 6,
   "id": "foster-dimension",
   "metadata": {},
   "outputs": [],
   "source": [
    "\"\"\"\n",
    "Log-likelihood function \n",
    "\"\"\"\n",
    "\n",
    "def log_like_probit(beta, y, x, individual=False): \n",
    "    \n",
    "    pi = x @ beta\n",
    "    prob = stats.norm.cdf(pi)\n",
    "    \n",
    "    log_like = y * np.log(prob) + (1-y) * np.log(1 - prob)\n",
    "    \n",
    "    if individual: \n",
    "        return -log_like\n",
    "    else:\n",
    "        return -np.sum(log_like)"
   ]
  },
  {
   "cell_type": "markdown",
   "id": "alpha-groove",
   "metadata": {},
   "source": [
    "Next, we select the data which we want to use"
   ]
  },
  {
   "cell_type": "code",
   "execution_count": 7,
   "id": "wicked-database",
   "metadata": {},
   "outputs": [],
   "source": [
    "k = 6\n",
    "y_data = df_data_monthly['USREC'].values[k:]\n",
    "x_data = df_data_monthly['T10YFF'].values[:-k] / 100\n",
    "x_data = np.c_[np.ones_like(x_data), x_data]"
   ]
  },
  {
   "cell_type": "code",
   "execution_count": 8,
   "id": "addressed-cookbook",
   "metadata": {},
   "outputs": [
    {
     "data": {
      "text/plain": [
       "      fun: 112.35680094433553\n",
       " hess_inv: array([[ 1.19285254e-02, -4.65467622e-01],\n",
       "       [-4.65467622e-01,  6.04394357e+01]])\n",
       "      jac: array([3.81469727e-06, 0.00000000e+00])\n",
       "  message: 'Optimization terminated successfully.'\n",
       "     nfev: 45\n",
       "      nit: 14\n",
       "     njev: 15\n",
       "   status: 0\n",
       "  success: True\n",
       "        x: array([ -1.02870448, -38.19343503])"
      ]
     },
     "execution_count": 8,
     "metadata": {},
     "output_type": "execute_result"
    }
   ],
   "source": [
    "\"\"\"\n",
    "Minimize negative log-likelihood \n",
    "\"\"\"\n",
    "res = optimize.minimize(log_like_probit, [0.13,0.0], args=(y_data, x_data))\n",
    "res"
   ]
  },
  {
   "cell_type": "code",
   "execution_count": 9,
   "id": "chemical-leisure",
   "metadata": {},
   "outputs": [
    {
     "data": {
      "image/png": "[encoded data removed]",
      "text/plain": [
       "<Figure size 720x360 with 1 Axes>"
      ]
     },
     "metadata": {
      "needs_background": "light"
     },
     "output_type": "display_data"
    }
   ],
   "source": [
    "fig, ax = plt.subplots(figsize=(10,5))\n",
    "\n",
    "ax.plot(df_data_monthly['USREC'].index[k:].values, stats.norm.cdf(x_data @ res.x) * 100, color=\"black\")\n",
    "\n",
    "# get start and end dates of recessions\n",
    "change_nber = nber_recessions - nber_recessions.shift(1)\n",
    "start_dates = change_nber[change_nber==1.0].index.to_list()\n",
    "end_dates = change_nber[change_nber==-1.0].index.to_list()\n",
    "\n",
    "ax.set_ylabel('Recession probability (in %)');\n",
    "ax.set_xlabel('');\n",
    "for s, e in zip(start_dates, end_dates):\n",
    "    ax.axvspan(s, e, color=\"grey\", alpha=0.2)\n",
    "    "
   ]
  },
  {
   "cell_type": "markdown",
   "id": "indian-capture",
   "metadata": {},
   "source": [
    "__Question 3__\n",
    "\n",
    "We note that \n",
    "\n",
    "$$\n",
    "q_t(y_t, \\mathbf{x}_t; \\theta) = y_t \\ln \\Phi(\\pi_{t}) + (1-y_t) \\ln (1 - \\Phi(\\pi_{t}))\n",
    "$$\n",
    "\n",
    "First, we find the gradient (using the chain-rule, derivative of natural logarithm, fundamental theorem of calculus, etc.)\n",
    "\n",
    "$$\n",
    "\\begin{align}\n",
    "\\frac{\\partial q_t(y_t, \\mathbf{x}_t; \\theta)}{\\partial \\theta} &= \\left[y_t \\frac{1}{\\Phi(\\pi_{t})} - (1-y_t) \\frac{1}{1 -\\Phi(\\pi_{t})} \\right] \\frac{\\partial \\Phi(\\pi_{t})}{\\partial \\theta}\\\\\n",
    "&= \\left[y_t \\frac{1}{\\Phi(\\pi_{t})} - (1-y_t) \\frac{1}{1 -\\Phi(\\pi_{t})} \\right] \\phi(\\pi_{t})\\frac{\\partial \\pi_{t}}{\\partial \\theta} \\\\\n",
    "&= \\left[y_t \\frac{1}{\\Phi(\\pi_{t})} - (1-y_t) \\frac{1}{1 -\\Phi(\\pi_{t})} \\right] \\phi(\\pi_{t})\\mathbf{x}_t\n",
    "\\end{align}\n",
    "$$\n",
    "\n",
    "Implying that \n",
    "\n",
    "$$\n",
    "\\begin{align}\n",
    "\\frac{1}{n} \\sum_{i=1}^n \\frac{\\partial q_t(y_t, \\mathbf{x}_t; \\theta)}{\\partial \\theta } \\frac{\\partial q_t(y_t, \\mathbf{x}_t; \\theta)}{\\partial \\theta^\\top }  = \\frac{1}{n} \\sum_{i=1}^n \\left[y_t \\frac{1}{\\Phi(\\pi_{t})} - (1-y_t) \\frac{1}{1 -\\Phi(\\pi_{t})} \\right]^2 \\phi(\\pi_{t})^2\\mathbf{x}_t\\mathbf{x}_t^\\top\n",
    "\\end{align}\n",
    "$$\n",
    "\n",
    "The Hessian is given by \n",
    "\n",
    "$$\n",
    "\\begin{align}\n",
    "\\frac{\\partial^2 q_t(y_t, \\mathbf{x}_t; \\theta)}{\\partial \\theta \\partial \\theta^\\top} &= \\frac{\\partial}{\\partial \\theta}\\left[y_t \\frac{1}{\\Phi(\\pi_{t})} - (1-y_t) \\frac{1}{1 -\\Phi(\\pi_{t})} \\right] \\phi(\\pi_{t})\\mathbf{x}_t^\\top \\\\\n",
    "&= \\left[\\frac{\\partial}{\\partial \\theta}\\left[y_t \\frac{1}{\\Phi(\\pi_{t})} - (1-y_t) \\frac{1}{1 -\\Phi(\\pi_{t})} \\right] \\phi(\\pi_{t})\\mathbf{x}_t^\\top \\right] + \\left[y_t \\frac{1}{\\Phi(\\pi_{t})} - (1-y_t) \\frac{1}{1 -\\Phi(\\pi_{t})} \\right] \\frac{\\partial}{\\partial \\theta}\\phi(\\pi_{t})\\mathbf{x}_t^\\top \\\\\n",
    "&=\\left[-y_t \\frac{1}{\\Phi(\\pi_{t})^2} - (1-y_t) \\frac{1}{(1 -\\Phi(\\pi_{t}))^2} \\right] \\phi(\\pi_{t})\\mathbf{x}_t\\phi(\\pi_{t})\\mathbf{x}_t^\\top - \\left[y_t \\frac{1}{\\Phi(\\pi_{t})} - (1-y_t) \\frac{1}{1 -\\Phi(\\pi_{t})} \\right]  \\phi(\\pi_{t}) \\mathbf{x}_t^\\top \\beta \\mathbf{x}_t \\mathbf{x}_t^\\top \\\\\n",
    "&=-\\left[y_t \\frac{\\phi(\\pi_{t}) + \\mathbf{x}_t^\\top \\beta \\Phi(\\pi_{t})}{\\Phi(\\pi_{t})^2} + (1-y_t) \\frac{\\phi(\\pi_{t}) - (1 -\\Phi(\\pi_{t}))\\mathbf{x}_t^\\top \\beta}{(\\phi(\\pi_{t}) -\\Phi(\\pi_{t}))^2} \\right] \\phi(\\pi_{t})\\mathbf{x}_t\\mathbf{x}_t^\\top \n",
    "\\end{align}\n",
    "$$\n",
    "\n",
    "Below, we implement the expressions. "
   ]
  },
  {
   "cell_type": "code",
   "execution_count": 10,
   "id": "deluxe-dietary",
   "metadata": {},
   "outputs": [],
   "source": [
    "\"\"\"\n",
    "Gradient (outer product of the scores)\n",
    "\"\"\"\n",
    "\n",
    "def outer_gradient(theta, x, y): \n",
    "    \n",
    "    pi = x @ theta \n",
    "    pdf_vals = stats.norm.pdf(pi)\n",
    "    cdf_vals = stats.norm.cdf(pi)\n",
    "    \n",
    "    first_part = (y * (1 / cdf_vals) - (1 - y) * (1 / (1-cdf_vals)))**2 * pdf_vals**2\n",
    "    \n",
    "    return np.sum(first_part[:, None, None] * np.einsum('ji,jk->jik',x, x), axis=0)\n",
    "    \n",
    "\n",
    "\"\"\"\n",
    "Hessian \n",
    "\"\"\"\n",
    "\n",
    "def hessian(theta, x, y): \n",
    "    \n",
    "    pi = x @ theta \n",
    "    pdf_vals = stats.norm.pdf(pi)\n",
    "    cdf_vals = stats.norm.cdf(pi)\n",
    "    \n",
    "    first_part = (-(y * (pdf_vals + pi * cdf_vals) / (cdf_vals**2) + \n",
    "                   (1 - y) * (pdf_vals - pi * (1 - cdf_vals)) / ((1-cdf_vals)**2)) * pdf_vals)\n",
    "    \n",
    "    return np.sum(first_part[:, None, None] * np.einsum('ji,jk->jik',x, x), axis=0)"
   ]
  },
  {
   "cell_type": "markdown",
   "id": "sealed-plaza",
   "metadata": {},
   "source": [
    "__Question 5__"
   ]
  },
  {
   "cell_type": "code",
   "execution_count": 11,
   "id": "mighty-cisco",
   "metadata": {},
   "outputs": [],
   "source": [
    "params_mle = res.x\n",
    "A = hessian(params_mle, x_data, y_data)\n",
    "B = outer_gradient(params_mle, x_data, y_data)\n",
    "\n",
    "param_mle_cov_A = np.linalg.inv(-A)\n",
    "\n",
    "param_mle_cov_B = np.linalg.inv(B)\n",
    "\n",
    "param_mle_cov_sandwich = np.linalg.inv(A) @ B @ np.linalg.inv(A)"
   ]
  },
  {
   "cell_type": "code",
   "execution_count": 12,
   "id": "advance-customs",
   "metadata": {},
   "outputs": [
    {
     "data": {
      "text/plain": [
       "array([[ 1.19303469e-02, -4.65037620e-01],\n",
       "       [-4.65037620e-01,  6.07593131e+01]])"
      ]
     },
     "execution_count": 12,
     "metadata": {},
     "output_type": "execute_result"
    }
   ],
   "source": [
    "# covariance matrix based on A\n",
    "param_mle_cov_A"
   ]
  },
  {
   "cell_type": "code",
   "execution_count": 13,
   "id": "premium-aquarium",
   "metadata": {},
   "outputs": [
    {
     "data": {
      "text/plain": [
       "array([[ 1.17326359e-02, -4.05530442e-01],\n",
       "       [-4.05530442e-01,  4.89219409e+01]])"
      ]
     },
     "execution_count": 13,
     "metadata": {},
     "output_type": "execute_result"
    }
   ],
   "source": [
    "# covariance matrix based on B\n",
    "param_mle_cov_B"
   ]
  },
  {
   "cell_type": "code",
   "execution_count": 14,
   "id": "multiple-border",
   "metadata": {},
   "outputs": [
    {
     "data": {
      "text/plain": [
       "array([[ 1.22108764e-02, -5.40306898e-01],\n",
       "       [-5.40306898e-01,  7.56390532e+01]])"
      ]
     },
     "execution_count": 14,
     "metadata": {},
     "output_type": "execute_result"
    }
   ],
   "source": [
    "# covariance matrix based on A^{-1}BA^{-1} \"Sandwich formula\"\n",
    "param_mle_cov_sandwich"
   ]
  },
  {
   "cell_type": "code",
   "execution_count": 15,
   "id": "adjusted-producer",
   "metadata": {},
   "outputs": [
    {
     "data": {
      "text/plain": [
       "array([0.11050283, 8.69707153])"
      ]
     },
     "execution_count": 15,
     "metadata": {},
     "output_type": "execute_result"
    }
   ],
   "source": [
    "# sandwich standard errors \n",
    "np.sqrt(np.diag(param_mle_cov_sandwich))"
   ]
  },
  {
   "cell_type": "code",
   "execution_count": 16,
   "id": "banned-income",
   "metadata": {},
   "outputs": [],
   "source": [
    "\"\"\"\n",
    "Numerical scores\n",
    "\"\"\"\n",
    "\n",
    "scores = approx_fprime(params_mle, log_like_probit, args=(y_data, x_data, True))\n",
    "B_approx = scores.T @ scores \n",
    "\n",
    "A_approx = -approx_hess(params_mle, log_like_probit, args=(y_data, x_data))\n",
    "\n",
    "param_mle_cov_A_num = np.linalg.inv(-A_approx)\n",
    "\n",
    "param_mle_cov_B_num = np.linalg.inv(B_approx)\n",
    "\n",
    "param_mle_cov_sandwich_num = np.linalg.inv(A_approx) @ B_approx @ np.linalg.inv(A_approx)"
   ]
  },
  {
   "cell_type": "code",
   "execution_count": 17,
   "id": "established-ready",
   "metadata": {},
   "outputs": [
    {
     "data": {
      "text/plain": [
       "array([[ 1.19303469e-02, -4.65037615e-01],\n",
       "       [-4.65037615e-01,  6.07593127e+01]])"
      ]
     },
     "execution_count": 17,
     "metadata": {},
     "output_type": "execute_result"
    }
   ],
   "source": [
    "# covariance matrix based on A\n",
    "param_mle_cov_A_num"
   ]
  },
  {
   "cell_type": "code",
   "execution_count": 18,
   "id": "hired-venture",
   "metadata": {},
   "outputs": [
    {
     "data": {
      "text/plain": [
       "array([[ 1.17326358e-02, -4.05530432e-01],\n",
       "       [-4.05530432e-01,  4.89219403e+01]])"
      ]
     },
     "execution_count": 18,
     "metadata": {},
     "output_type": "execute_result"
    }
   ],
   "source": [
    "# covariance matrix based on B\n",
    "param_mle_cov_B_num"
   ]
  },
  {
   "cell_type": "code",
   "execution_count": 19,
   "id": "stretch-contribution",
   "metadata": {},
   "outputs": [
    {
     "data": {
      "text/plain": [
       "array([[ 1.22108764e-02, -5.40306899e-01],\n",
       "       [-5.40306899e-01,  7.56390531e+01]])"
      ]
     },
     "execution_count": 19,
     "metadata": {},
     "output_type": "execute_result"
    }
   ],
   "source": [
    "# covariance matrix based on A^{-1}BA^{-1} \"Sandwich formula\"\n",
    "param_mle_cov_sandwich_num"
   ]
  },
  {
   "cell_type": "code",
   "execution_count": 20,
   "id": "competitive-commonwealth",
   "metadata": {},
   "outputs": [
    {
     "data": {
      "text/plain": [
       "array([0.11050283, 8.69707152])"
      ]
     },
     "execution_count": 20,
     "metadata": {},
     "output_type": "execute_result"
    }
   ],
   "source": [
    "# sandwich standard errors \n",
    "np.sqrt(np.diag(param_mle_cov_sandwich_num))"
   ]
  },
  {
   "cell_type": "markdown",
   "id": "round-advertising",
   "metadata": {},
   "source": [
    "__Question 6__\n",
    "\n",
    "Yes, both the constant and the term spread is highly signficant. \n",
    "\n",
    "Luckily, we get the same results as `statsmodels`. "
   ]
  },
  {
   "cell_type": "code",
   "execution_count": 21,
   "id": "centered-constitutional",
   "metadata": {},
   "outputs": [
    {
     "name": "stdout",
     "output_type": "stream",
     "text": [
      "Optimization terminated successfully.\n",
      "         Current function value: 0.245321\n",
      "         Iterations 7\n"
     ]
    },
    {
     "data": {
      "text/html": [
       "<table class=\"simpletable\">\n",
       "<caption>Probit Regression Results</caption>\n",
       "<tr>\n",
       "  <th>Dep. Variable:</th>           <td>y</td>        <th>  No. Observations:  </th>  <td>   458</td>  \n",
       "</tr>\n",
       "<tr>\n",
       "  <th>Model:</th>                <td>Probit</td>      <th>  Df Residuals:      </th>  <td>   456</td>  \n",
       "</tr>\n",
       "<tr>\n",
       "  <th>Method:</th>                 <td>MLE</td>       <th>  Df Model:          </th>  <td>     1</td>  \n",
       "</tr>\n",
       "<tr>\n",
       "  <th>Date:</th>            <td>Sat, 18 Sep 2021</td> <th>  Pseudo R-squ.:     </th>  <td>0.1090</td>  \n",
       "</tr>\n",
       "<tr>\n",
       "  <th>Time:</th>                <td>15:55:56</td>     <th>  Log-Likelihood:    </th> <td> -112.36</td> \n",
       "</tr>\n",
       "<tr>\n",
       "  <th>converged:</th>             <td>True</td>       <th>  LL-Null:           </th> <td> -126.11</td> \n",
       "</tr>\n",
       "<tr>\n",
       "  <th>Covariance Type:</th>        <td>HC0</td>       <th>  LLR p-value:       </th> <td>1.570e-07</td>\n",
       "</tr>\n",
       "</table>\n",
       "<table class=\"simpletable\">\n",
       "<tr>\n",
       "    <td></td>       <th>coef</th>     <th>std err</th>      <th>z</th>      <th>P>|z|</th>  <th>[0.025</th>    <th>0.975]</th>  \n",
       "</tr>\n",
       "<tr>\n",
       "  <th>const</th> <td>   -1.0287</td> <td>    0.111</td> <td>   -9.309</td> <td> 0.000</td> <td>   -1.245</td> <td>   -0.812</td>\n",
       "</tr>\n",
       "<tr>\n",
       "  <th>x1</th>    <td>  -38.1934</td> <td>    8.697</td> <td>   -4.392</td> <td> 0.000</td> <td>  -55.239</td> <td>  -21.147</td>\n",
       "</tr>\n",
       "</table>"
      ],
      "text/plain": [
       "<class 'statsmodels.iolib.summary.Summary'>\n",
       "\"\"\"\n",
       "                          Probit Regression Results                           \n",
       "==============================================================================\n",
       "Dep. Variable:                      y   No. Observations:                  458\n",
       "Model:                         Probit   Df Residuals:                      456\n",
       "Method:                           MLE   Df Model:                            1\n",
       "Date:                Sat, 18 Sep 2021   Pseudo R-squ.:                  0.1090\n",
       "Time:                        15:55:56   Log-Likelihood:                -112.36\n",
       "converged:                       True   LL-Null:                       -126.11\n",
       "Covariance Type:                  HC0   LLR p-value:                 1.570e-07\n",
       "==============================================================================\n",
       "                 coef    std err          z      P>|z|      [0.025      0.975]\n",
       "------------------------------------------------------------------------------\n",
       "const         -1.0287      0.111     -9.309      0.000      -1.245      -0.812\n",
       "x1           -38.1934      8.697     -4.392      0.000     -55.239     -21.147\n",
       "==============================================================================\n",
       "\"\"\""
      ]
     },
     "execution_count": 21,
     "metadata": {},
     "output_type": "execute_result"
    }
   ],
   "source": [
    "import statsmodels.api as sm\n",
    "\n",
    "stat_est = sm.Probit(y_data, x_data).fit(cov_type='HC0')\n",
    "stat_est.summary()"
   ]
  },
  {
   "cell_type": "markdown",
   "id": "developed-operations",
   "metadata": {},
   "source": [
    "__Question 6__"
   ]
  },
  {
   "cell_type": "code",
   "execution_count": 22,
   "id": "indirect-holder",
   "metadata": {},
   "outputs": [],
   "source": [
    "x_dynamic_data = np.c_[x_data, df_data_monthly['USREC'].values[k-1:-1]]"
   ]
  },
  {
   "cell_type": "code",
   "execution_count": 23,
   "id": "solid-cooperative",
   "metadata": {},
   "outputs": [
    {
     "data": {
      "text/plain": [
       "      fun: 30.00828211527152\n",
       " hess_inv: array([[ 4.50285188e-02, -3.66861429e-01, -4.10175011e-02],\n",
       "       [-3.66861429e-01,  2.81212366e+02, -2.79431895e+00],\n",
       "       [-4.10175011e-02, -2.79431895e+00,  1.58113400e-01]])\n",
       "      jac: array([-2.86102295e-06,  0.00000000e+00,  7.39097595e-06])\n",
       "  message: 'Optimization terminated successfully.'\n",
       "     nfev: 96\n",
       "      nit: 21\n",
       "     njev: 24\n",
       "   status: 0\n",
       "  success: True\n",
       "        x: array([ -2.03242502, -46.8434221 ,   3.65960003])"
      ]
     },
     "execution_count": 23,
     "metadata": {},
     "output_type": "execute_result"
    }
   ],
   "source": [
    "res_dynamic = optimize.minimize(log_like_probit, [0.0,0.0, 0.0], args=(y_data, x_dynamic_data))\n",
    "res_dynamic"
   ]
  },
  {
   "cell_type": "code",
   "execution_count": 24,
   "id": "continued-number",
   "metadata": {},
   "outputs": [
    {
     "data": {
      "image/png": "[encoded data removed]",
      "text/plain": [
       "<Figure size 720x360 with 1 Axes>"
      ]
     },
     "metadata": {
      "needs_background": "light"
     },
     "output_type": "display_data"
    }
   ],
   "source": [
    "fig, ax = plt.subplots(figsize=(10,5))\n",
    "\n",
    "ax.plot(df_data_monthly['USREC'].index[k:].values, stats.norm.cdf(x_dynamic_data @ res_dynamic.x) * 100, color=\"black\")\n",
    "\n",
    "# get start and end dates of recessions\n",
    "change_nber = nber_recessions - nber_recessions.shift(1)\n",
    "start_dates = change_nber[change_nber==1.0].index.to_list()\n",
    "end_dates = change_nber[change_nber==-1.0].index.to_list()\n",
    "\n",
    "ax.set_ylabel('Recession probability (in %)');\n",
    "ax.set_xlabel('');\n",
    "for s, e in zip(start_dates, end_dates):\n",
    "    ax.axvspan(s, e, color=\"grey\", alpha=0.2)\n",
    "    "
   ]
  },
  {
   "cell_type": "markdown",
   "id": "champion-interview",
   "metadata": {},
   "source": [
    "__Question 7__"
   ]
  },
  {
   "cell_type": "code",
   "execution_count": 25,
   "id": "individual-founder",
   "metadata": {},
   "outputs": [],
   "source": [
    "\"\"\"\n",
    "Log-likelihood function \n",
    "\"\"\"\n",
    "\n",
    "def calculate_recession_probs(theta, x): \n",
    "    \n",
    "    beta = theta[:-1]\n",
    "    alpha = theta[-1]\n",
    "    \n",
    "    pi = x @ beta\n",
    "    for i in range(1, len(x)):\n",
    "        pi[i] += alpha * pi[i-1]\n",
    "        \n",
    "    prob = stats.norm.cdf(pi)\n",
    "    return prob\n",
    "\n",
    "def log_like_autoregressiv_probit(theta, y, x, individual=False): \n",
    "        \n",
    "    prob = calculate_recession_probs(theta, x)\n",
    "    \n",
    "    log_like = y * np.log(prob) + (1-y) * np.log(1 - prob)\n",
    "    \n",
    "    if individual: \n",
    "        return -log_like\n",
    "    else:\n",
    "        return -np.sum(log_like)\n",
    "    "
   ]
  },
  {
   "cell_type": "code",
   "execution_count": 26,
   "id": "departmental-aaron",
   "metadata": {},
   "outputs": [
    {
     "data": {
      "text/plain": [
       "      fun: 71.87557012160943\n",
       " hess_inv: <3x3 LbfgsInvHessProduct with dtype=float64>\n",
       "      jac: array([-9.16600129e-04, -5.68434142e-06,  1.25908172e-03])\n",
       "  message: 'CONVERGENCE: REL_REDUCTION_OF_F_<=_FACTR*EPSMCH'\n",
       "     nfev: 152\n",
       "      nit: 29\n",
       "     njev: 38\n",
       "   status: 0\n",
       "  success: True\n",
       "        x: array([ 5.88032993e-03, -1.41943658e+01,  9.36830412e-01])"
      ]
     },
     "execution_count": 26,
     "metadata": {},
     "output_type": "execute_result"
    }
   ],
   "source": [
    "res_auto = optimize.minimize(log_like_autoregressiv_probit, [0.1, -0.2, 0.9],\n",
    "                             args=(y_data, x_data), bounds = ((None, None), (None, None),(0.0, 0.99)))\n",
    "res_auto"
   ]
  },
  {
   "cell_type": "code",
   "execution_count": 27,
   "id": "perfect-money",
   "metadata": {},
   "outputs": [
    {
     "data": {
      "image/png": "[encoded data removed]",
      "text/plain": [
       "<Figure size 720x360 with 1 Axes>"
      ]
     },
     "metadata": {
      "needs_background": "light"
     },
     "output_type": "display_data"
    }
   ],
   "source": [
    "fig, ax = plt.subplots(figsize=(10,5))\n",
    "\n",
    "ax.plot(df_data_monthly['USREC'].index[k:].values, calculate_recession_probs(res_auto.x, x_data) * 100, color=\"black\")\n",
    "\n",
    "# get start and end dates of recessions\n",
    "change_nber = nber_recessions - nber_recessions.shift(1)\n",
    "start_dates = change_nber[change_nber==1.0].index.to_list()\n",
    "end_dates = change_nber[change_nber==-1.0].index.to_list()\n",
    "\n",
    "ax.set_ylabel('Recession probability (in %)');\n",
    "ax.set_xlabel('');\n",
    "for s, e in zip(start_dates, end_dates):\n",
    "    ax.axvspan(s, e, color=\"grey\", alpha=0.2)"
   ]
  },
  {
   "cell_type": "markdown",
   "id": "martial-hybrid",
   "metadata": {},
   "source": [
    "## Problem 2: MLE and hypothesis testing \n",
    "\n",
    "Consider the [Gamma distribution](https://en.wikipedia.org/wiki/Gamma_distribution) \n",
    "\n",
    "$$\n",
    "f_{y}(y; \\theta) = \\frac{\\beta^\\rho}{\\Gamma(\\rho)} y^{\\rho -1} e^{-y \\beta}\n",
    "$$\n",
    "where $\\theta = (\\beta, \\rho)^\\top$, $\\Gamma(\\rho)$ is the [gamma function](https://en.wikipedia.org/wiki/Gamma_function). \n",
    "\n",
    "__Question 1__\n",
    "\n",
    "Simulate 1,000 observations assuming $\\beta = 1$ and $\\rho=1$ from a gamma distribution. Plot the histogram together with the true density. \n",
    "\n",
    "__Question 2__\n",
    "\n",
    "Define the log-likelihood function and estimate the parameters. Note that the functions `scipy.special.gamma`, `scipy.special.gammaln`, and `scipy.special.digamma` ([digamma function](https://en.wikipedia.org/wiki/Digamma_function)) may be relevant. \n",
    "\n",
    "__Question 3__\n",
    "\n",
    "The gradiant is given by \n",
    "\n",
    "$$\n",
    "\\frac{\\partial q_i(y_i ;\\theta)}{\\partial \\theta } = \\begin{bmatrix} \\rho \\frac{1}{\\beta} - y_i \\\\ \\ln \\beta - \\frac{\\partial \\ln \\Gamma (\\rho)}{\\partial \\rho} + \\ln y_i\\end{bmatrix}\\\\\n",
    "$$\n",
    "\n",
    "and therefore\n",
    "\n",
    "$$\n",
    "\\frac{\\partial q_i(y_i ;\\theta)}{\\partial \\theta } \\frac{\\partial q_i(y_i ;\\theta)}{\\partial \\theta^\\top } = \\begin{bmatrix} \\rho \\frac{1}{\\beta} - y_i \\\\ \\ln \\beta - \\frac{\\partial \\ln \\Gamma (\\rho)}{\\partial \\rho} + \\ln y_i\\end{bmatrix}\\begin{bmatrix} \\rho \\frac{1}{\\beta} - y_i \\\\ \\ln \\beta - \\frac{\\partial \\ln \\Gamma (\\rho)}{\\partial \\rho} + \\ln y_i\\end{bmatrix}^\\top = \\begin{bmatrix} (\\rho \\frac{1}{\\beta} - y_i)^2 & (\\rho \\frac{1}{\\beta} - y_i) (\\ln \\beta - \\frac{\\partial \\ln \\Gamma (\\rho)}{\\partial \\rho} + \\ln y_i) \\\\\n",
    "(\\rho \\frac{1}{\\beta} - y_i) (\\ln \\beta - \\frac{d \\ln \\Gamma (\\rho)}{d \\rho} + \\ln y_i) & (\\ln \\beta - \\frac{\\partial \\ln \\Gamma (\\rho)}{\\partial \\rho} + \\ln y_i)^2 \\end{bmatrix}\n",
    "$$\n",
    "\n",
    "and the Hessian is given by \n",
    "\n",
    "$$\n",
    "\\frac{\\partial^2 q_i(y_i ;\\theta)}{\\partial \\theta \\partial \\theta^\\top } = \\begin{bmatrix} \\frac{-\\rho}{\\beta^2}  & \\frac{1}{\\beta} \\\\\n",
    "\\frac{1}{\\beta} & - \\frac{d^2 \\ln \\Gamma (\\rho)}{d \\rho^2} \\end{bmatrix}\n",
    "$$\n",
    "\n",
    "Define a function that returns \n",
    "\n",
    "$$\n",
    "\\sum_{i=1}^n\\frac{\\partial^2 q_i(y_i ;\\theta)}{\\partial \\theta \\partial \\theta^\\top} = \\sum_{i=1}^n \\text{E} \\left[ \\frac{\\partial^2 q_i(y_i ;\\theta)}{\\partial \\theta \\partial \\theta^\\top} \\right] = \\sum_{i=1}^n \\begin{bmatrix} \\frac{-\\rho}{\\beta^2}  & \\frac{1}{\\beta} \\\\\n",
    "\\frac{1}{\\beta} & - \\frac{d \\ln \\Gamma (\\rho)}{d \\rho^2} \\end{bmatrix}\n",
    "$$\n",
    "\n",
    "\n",
    "__Question 4__\n",
    "\n",
    "We remember that \n",
    "\n",
    "$$\n",
    "\\hat{\\theta}_{MLE} \\sim^a N\\left(\\theta_0, -\\left[ \\sum_{i=1}^n \\text{E} \\left[ \\left. \\frac{\\partial^2 q_i(y_i ;\\theta)}{\\partial \\theta \\partial \\theta^\\top} \\right \\vert_{\\theta = \\theta_0}\\right] \\right]^{-1}\\right)\n",
    "$$\n",
    "\n",
    "Since $\\theta_0$ (in real life) is unkown, then we replace it with the obtained estimate. Calculate the standard errors of the estimator.\n",
    "\n",
    "__Question 5__\n",
    "\n",
    "The MLE follows a multivariate normal distribution in the limit (for simplicity let $\\mathbf{V}$ denote the asymptotic variance)\n",
    "\n",
    "$$\n",
    "\\hat{\\theta} \\sim^a N(\\theta_0, \\mathbf{V})\n",
    "$$\n",
    "\n",
    "If we let $\\mathbf{R}$ be a $(q \\times k)$ matrix and $\\mathbf{r}$ be a $q \\times 1$ vector where $q$ is the number of restrictions and $k$ is the number of parameters (so 2 in the model we are considering here). \n",
    "\n",
    "Assuming the null hypothesis \n",
    "\n",
    "$$\n",
    "\\text{H}_0 : \\mathbf{R} \\theta - \\mathbf{r} = \\mathbf{0}\n",
    "$$\n",
    "\n",
    "we will have (under the null hypothesis)\n",
    "\n",
    "$$\n",
    "\\mathbf{R} \\hat{\\theta} - \\mathbf{r} \\sim^a N(\\mathbf{0}, \\mathbf{R}\\mathbf{V}\\mathbf{R}^\\top)\n",
    "$$\n",
    "\n",
    "When testing a single hypothesis ($q=1$), we will have \n",
    "\n",
    "$$\n",
    "\\frac{\\mathbf{R} \\hat{\\theta} - \\mathbf{r}}{\\sqrt{\\mathbf{R}\\mathbf{V}\\mathbf{R}^\\top}} \\sim^a N(0, 1)\n",
    "$$\n",
    "\n",
    "If we want to test the hypothesis $\\text{H}_0: \\beta=1$ vs. the alternative $\\text{H}_A: \\beta \\neq 1$ in the model considered here, we simple choose $\\mathbf{R} = [0, 1]$ and $\\mathbf{r} = 1$ such that \n",
    "\n",
    "$$\n",
    "Z = \\frac{\\mathbf{R} \\hat{\\theta} - \\mathbf{r}}{\\sqrt{\\mathbf{R}\\mathbf{V}\\mathbf{R}^\\top}} = \\frac{\\hat{\\beta} -  1}{\\sqrt{V_{11}}} = \\frac{\\hat{\\beta} -  1}{\\sqrt{\\text{Var}(\\hat{\\beta})}}  \\sim^a N(0, 1)\n",
    "$$\n",
    "\n",
    "which is the well-known test statistic. We obtain the (two-side) $p$-value as $2 (1 - \\Phi(\\vert z \\vert))$. \n",
    "\n",
    "Test the hypotheses that (one at the time) that $\\beta=1$ and $\\rho=1$. \n",
    "\n",
    "\n",
    "__Question 6__\n",
    "\n",
    "We now want to test the joint hypothesis $\\text{H}_0: \\beta=1, \\rho=1$ vs. the alternative $\\text{H}_A: \\beta \\neq 1, \\rho \\neq 1$. \n",
    "\n",
    "To test this hypothesis, we have different possibilities:\n",
    "\n",
    "* The likelihood ratio test\n",
    "* The Wald test\n",
    "* The Lagrange multiplier test\n",
    "\n",
    "__The likelihood ratio test__\n",
    "\n",
    "The basic idea is that we have some valid restrictions, say $\\mathbf{c}(\\theta) = \\mathbf{r}$, then imposing it should not lead to a large reduction in the log-likelihood function. It is possible to show that the Likehood Ratio (LR) test statistic \n",
    "\n",
    "$$\n",
    "LR = - 2 (\\ln L_n^R - \\ln L_n^U) \\sim \\chi^2 (q)\n",
    "$$\n",
    "\n",
    "follows a chi-squared distribution with degrees of freedom equal to the number of restrictions, $q$. $L_n^R$ is the restricted likelihood function and $L_n^U$ is the unrestricted likelihood function. \n",
    "\n",
    "__The wald test__\n",
    "\n",
    "If the restrictions are valid, then $\\mathbf{c}(\\hat{\\theta}) - \\mathbf{r}$ should be close to zero since the MLE is consistent. The wald test is based on $\\mathbf{c}(\\hat{\\theta}) - \\mathbf{r}$ and we will reject the hypothesis of this value is significantly different from zero. The wald test statistc can be written as \n",
    "\n",
    "$$\n",
    "W = [\\mathbf{c}\\left(\\hat{\\theta}\\right) - \\mathbf{r}]^\\top \\left(\\mathbf{C} \\mathbf{V} \\mathbf{C}^\\top \\right)^{-1} [\\mathbf{c}\\left(\\hat{\\theta}\\right) - \\mathbf{r}] \\sim \\chi^2 (q)\n",
    "$$\n",
    "where $\\mathbf{C} = \\left. \\frac{\\partial \\mathbf{c}(\\theta)}{\\partial \\theta^\\top} \\right \\vert_{\\theta=\\hat{\\theta}}$.  For linear restrictions $\\mathbf{R} \\theta - \\mathbf{r}$, we will have\n",
    "\n",
    "$$\n",
    "W = [\\mathbf{R} \\hat{\\theta} - \\mathbf{r}]^\\top \\left(\\mathbf{R} \\mathbf{V} \\mathbf{R}^\\top \\right)^{-1} [\\mathbf{R} \\hat{\\theta} - \\mathbf{r}] \\sim \\chi^2 (q)\n",
    "$$\n",
    "\n",
    "__The Lagrange multiplier test__\n",
    "\n",
    "As the name entails, the test is related to the Lagrangian of the constrained problem \n",
    "\n",
    "$$\n",
    "\\mathcal{L}^*_n(\\theta) = \\mathcal{L}_n (\\theta) + \\lambda^\\top (\\mathbf{c}(\\theta) - \\mathbf{r}) \n",
    "$$\n",
    "\n",
    "The solution to this constrained problem satisfies the the first order conditions \n",
    "\n",
    "$$\n",
    "\\begin{align}\n",
    "\\frac{\\partial \\mathcal{L}_n^* (\\theta)}{\\partial \\theta}&=\\frac{\\partial \\mathcal{L}_n (\\theta)}{\\partial \\theta} + \\mathbf{C}^\\top \\lambda = \\mathbf{0}\\\\\n",
    "\\frac{\\partial \\mathcal{L}_n^* (\\theta)}{\\partial \\lambda}&= \\mathbf{c}(\\theta) - \\mathbf{r} = \\mathbf{0}\n",
    "\\end{align}\n",
    "$$\n",
    "\n",
    "The restrictions not being binding corresponds to $\\lambda = \\mathbf{0}$ why we may define the null hypothesis as $\\text{H}_0: \\lambda= \\mathbf{0}$ (i.e. the lagrange multiplier being equal to zero). A more common approach is obtained by noting that evaluated at the restricted estimate, then the score should be close to zero\n",
    "\n",
    "$$\n",
    "\\hat{\\mathbf{g}}_R = \\left. \\frac{\\partial \\mathcal{L}_n (\\theta)}{\\partial \\theta} \\right \\vert_{\\theta = \\hat{\\theta}_R} = \\hat{\\mathbf{C}}^\\top \\lambda = \\mathbf{0}\n",
    "$$\n",
    "\n",
    "Under the nulll hypothesis the \n",
    "\n",
    "$$\n",
    "\\left[\\left. \\frac{\\partial \\mathcal{L}_n (\\theta)}{\\partial \\theta} \\right \\vert_{\\theta = \\hat{\\theta}_R}  \\right]^\\top    \\mathbf{V}_R \\left[ \\left. \\frac{\\partial \\mathcal{L}_n (\\theta)}{\\partial \\theta} \\right \\vert_{\\theta = \\hat{\\theta}_R} \\right] \\sim \\chi^2 (q)\n",
    "$$\n",
    "\n",
    "where $\\mathbf{V}_R $ is the asymptotic variance of the restricted. One advantage of the LM test is that we only need to estimate the model under the null hypothesis!\n",
    "\n",
    "Implement all the three above tests. \n",
    "\n",
    "__Question 7__\n",
    "\n",
    "\n",
    "[_Size_](https://en.wikipedia.org/wiki/Size_(statistics)) and [_power_](https://en.wikipedia.org/wiki/Power_of_a_test) are two key properties of a test.  Size is the probability of commiting a type I error, i.e. rejecting a true null hypothesis and power is the probability of rejecting a false null hypothesis. \n",
    "\n",
    "The distributions used above for testing hypotheses about the parameters rely on asymptotic theory, but this may be a bad approximation in small samples.\n",
    "\n",
    "For different sample sizes, e.g. 100, 250, 500, 1000, using at least 10,000 simulated samples check how well the LR test statisticfrom a above follows a $\\chi^2(q)$ distribution. \n",
    "\n",
    "__Question 8__\n",
    "\n",
    "How often does the LR-statistic exceed the 5\\% critical value for each of the sample sizes? \n",
    "\n",
    "__Question 9__\n",
    "\n",
    "We want to examine the power of the LR test. To calculate the probability of rejecting the null hypothesis (we keep the one from above) given that it is false, then we need to assume some true alternative. We will assume that $\\beta=1.25$. Redo the simulation and calculate how many times LR-statistic exceed the 5\\% critical value for each of the sample sizes. \n",
    "\n",
    "\n",
    "\n",
    "\n",
    "### Solution \n",
    "\n",
    "__Question 1__"
   ]
  },
  {
   "cell_type": "code",
   "execution_count": 28,
   "id": "wrong-occasion",
   "metadata": {},
   "outputs": [],
   "source": [
    "n = 1000\n",
    "beta_true = 1.0\n",
    "rho_true = 1.0\n",
    "y_data = stats.gamma.rvs(a=rho_true, scale=1.0/beta_true, size=n)"
   ]
  },
  {
   "cell_type": "code",
   "execution_count": 29,
   "id": "biological-facility",
   "metadata": {},
   "outputs": [
    {
     "data": {
      "image/png": "[encoded data removed]",
      "text/plain": [
       "<Figure size 864x432 with 1 Axes>"
      ]
     },
     "metadata": {
      "needs_background": "light"
     },
     "output_type": "display_data"
    }
   ],
   "source": [
    "# density\n",
    "y_vals = np.linspace(0.001, 8.0, 1000)\n",
    "pdf_vals = stats.gamma.pdf(y_vals, a=rho_true, scale=1.0/beta_true)\n",
    "\n",
    "# plotting \n",
    "fig, ax = plt.subplots(figsize=(12,6))\n",
    "\n",
    "ax.hist(y_data, bins=30, density=True, label=\"Simulated data\")\n",
    "ax.plot(y_vals, pdf_vals, color=\"black\", label=\"True pdf\")\n",
    "\n",
    "ax.set_xlabel(\"y\")\n",
    "ax.set_ylabel(\"Density\")\n",
    "ax.legend();"
   ]
  },
  {
   "cell_type": "markdown",
   "id": "pregnant-promotion",
   "metadata": {},
   "source": [
    "__Question 2__\n",
    "\n",
    "The likelihood function can be written as \n",
    "\n",
    "$$\n",
    "L_n(\\theta) = \\prod_{i=1}^n \\frac{\\beta^\\rho}{\\Gamma(\\rho)} y_i^{\\rho -1} e^{-y_i \\beta}\n",
    "$$\n",
    "\n",
    "Taking the natural logarithm yields\n",
    "\n",
    "$$\n",
    "\\mathcal{L}_{n}(\\theta) = \\sum_{i=1}^n q_i(y_i; \\theta) = \\sum_{i=1}^n \\left[\\rho \\ln \\beta - \\ln \\Gamma (\\rho) + (\\rho - 1) \\ln y_i - y_i \\beta \\right] = n \\left[\\rho \\ln \\beta - \\ln \\Gamma (\\rho) \\right] + \\sum_{i=1}^n \\left[(\\rho - 1) \\ln y_i - y_i \\beta \\right]\n",
    "$$\n",
    "\n"
   ]
  },
  {
   "cell_type": "code",
   "execution_count": 30,
   "id": "compliant-bibliography",
   "metadata": {},
   "outputs": [],
   "source": [
    "from scipy.special import gamma, gammaln, psi, polygamma\n",
    "\n",
    "\"\"\"\n",
    "Define log-likelihood \n",
    "\"\"\"\n",
    "\n",
    "def log_like_gamma(theta, y,  individual=False):\n",
    "    \n",
    "    beta = theta[0]\n",
    "    rho = theta[1]\n",
    "    \n",
    "    log_like = rho * np.log(beta) - gammaln(rho) + (rho - 1) * np.log(y) - y * beta\n",
    "    \n",
    "    if individual: \n",
    "        return -log_like\n",
    "    else:\n",
    "        return -np.sum(log_like)\n",
    "    \n",
    "\n",
    "\"\"\"\n",
    "Minimize negative log-like \n",
    "\"\"\"\n",
    "res = optimize.minimize(log_like_gamma, [1.0, 1.0], args=(y_data, ))\n",
    "params_mle = res.x"
   ]
  },
  {
   "cell_type": "markdown",
   "id": "massive-option",
   "metadata": {},
   "source": [
    "__Question 3__\n"
   ]
  },
  {
   "cell_type": "code",
   "execution_count": 31,
   "id": "average-portable",
   "metadata": {},
   "outputs": [],
   "source": [
    "def gamma_log_like_hessian(theta: np.array, y: np.array):\n",
    "    \n",
    "    \"\"\"\n",
    "    Calculates the Hessian of the log-likelihood function \n",
    "    \"\"\"\n",
    "    \n",
    "    beta = theta[0]\n",
    "    rho = theta[1]\n",
    "    n = len(y)\n",
    "    \n",
    "    hess = np.array([[-rho / (beta**2), 1.0 / beta], [1.0 / beta, - polygamma(1, rho)]])\n",
    "    \n",
    "    return n * hess"
   ]
  },
  {
   "cell_type": "markdown",
   "id": "loving-shelf",
   "metadata": {},
   "source": [
    "__Question 4__\n",
    "\n"
   ]
  },
  {
   "cell_type": "code",
   "execution_count": 32,
   "id": "surprising-edward",
   "metadata": {},
   "outputs": [
    {
     "data": {
      "text/plain": [
       "array([0.0505487 , 0.03812942])"
      ]
     },
     "execution_count": 32,
     "metadata": {},
     "output_type": "execute_result"
    }
   ],
   "source": [
    "A = gamma_log_like_hessian(params_mle, y_data)\n",
    "V = -np.linalg.inv(A)\n",
    "np.sqrt(np.diag(V))"
   ]
  },
  {
   "cell_type": "markdown",
   "id": "worse-cocktail",
   "metadata": {},
   "source": [
    "__Question 5__"
   ]
  },
  {
   "cell_type": "code",
   "execution_count": 33,
   "id": "loved-parish",
   "metadata": {},
   "outputs": [
    {
     "data": {
      "text/plain": [
       "0.9470303448818918"
      ]
     },
     "execution_count": 33,
     "metadata": {},
     "output_type": "execute_result"
    }
   ],
   "source": [
    "\"\"\"\n",
    "Testing beta=1\n",
    "\"\"\"\n",
    "\n",
    "z_beta = (params_mle[0] - 1.0) / np.sqrt(V[0,0])\n",
    "\n",
    "p_value_beta =  2.0*(1.0 - stats.norm.cdf(np.abs(z_beta)))\n",
    "p_value_beta"
   ]
  },
  {
   "cell_type": "code",
   "execution_count": 34,
   "id": "alert-conditions",
   "metadata": {},
   "outputs": [
    {
     "data": {
      "text/plain": [
       "0.4448400354433233"
      ]
     },
     "execution_count": 34,
     "metadata": {},
     "output_type": "execute_result"
    }
   ],
   "source": [
    "\"\"\"\n",
    "Testing rho=1\n",
    "\"\"\"\n",
    "\n",
    "z_rho = (params_mle[1] - 1.0) / np.sqrt(V[1,1])\n",
    "\n",
    "p_value_rho =  2.0*(1.0 - stats.norm.cdf(np.abs(z_rho)))\n",
    "p_value_rho"
   ]
  },
  {
   "cell_type": "markdown",
   "id": "outside-gabriel",
   "metadata": {},
   "source": [
    "__Quesiton 6__\n",
    "\n"
   ]
  },
  {
   "cell_type": "code",
   "execution_count": 35,
   "id": "classical-cycling",
   "metadata": {},
   "outputs": [
    {
     "name": "stdout",
     "output_type": "stream",
     "text": [
      "LR: 1.2519024206255835\n",
      "p-value: 0.534752524403936\n"
     ]
    }
   ],
   "source": [
    "\"\"\"\n",
    "LR test\n",
    "\"\"\"\n",
    "\n",
    "like_ratio = 2 * (log_like_gamma([1.0, 1.0], y_data) - \n",
    "                  log_like_gamma(params_mle, y_data))\n",
    "\n",
    "p_val_lr = 1 - stats.chi2.cdf(like_ratio, 2)\n",
    "\n",
    "print(\"LR: \" + str(like_ratio))\n",
    "print(\"p-value: \" + str(p_val_lr))"
   ]
  },
  {
   "cell_type": "code",
   "execution_count": 36,
   "id": "tamil-lotus",
   "metadata": {},
   "outputs": [
    {
     "name": "stdout",
     "output_type": "stream",
     "text": [
      "Wald: 1.2726356399822687\n",
      "p-value: 0.5292375886910923\n"
     ]
    }
   ],
   "source": [
    "\"\"\"\n",
    "Wald test\n",
    "\"\"\"\n",
    "R = np.eye(2)\n",
    "r = np.ones(2)\n",
    "constraint = (R @ params_mle - r)\n",
    "cov_inv = np.linalg.inv(R @ V @ R.T)\n",
    "\n",
    "wald = constraint.T @ cov_inv @ constraint\n",
    "p_val_wald = 1 - stats.chi2.cdf(wald, 2)\n",
    "\n",
    "print(\"Wald: \" + str(wald))\n",
    "print(\"p-value: \" + str(p_val_wald))"
   ]
  },
  {
   "cell_type": "code",
   "execution_count": 37,
   "id": "restricted-programmer",
   "metadata": {},
   "outputs": [
    {
     "name": "stdout",
     "output_type": "stream",
     "text": [
      "LM: 1.0644760511394753\n",
      "p-value: 0.5872891296967295\n"
     ]
    }
   ],
   "source": [
    "\"\"\"\n",
    "Lagrange Multiplier test\n",
    "\"\"\"\n",
    "\n",
    "# get covariance matrix of restricted modle \n",
    "A_res = gamma_log_like_hessian([1.0, 1.0], y_data)\n",
    "V_res = -np.linalg.inv(A_res)\n",
    "np.sqrt(np.diag(V))\n",
    "\n",
    "# define a function calculating the score (we could also do this numerically)\n",
    "def gamma_log_like_score(theta: np.array, y: np.array, individual=False):\n",
    "    \n",
    "    \"\"\"\n",
    "    Calculates the score of the log-likelihood function \n",
    "    \"\"\"\n",
    "    \n",
    "    beta = theta[0]\n",
    "    rho = theta[1]\n",
    "    n = len(y)\n",
    "    \n",
    "    score_beta = rho / beta - y\n",
    "    score_rho = np.log(rho) -  polygamma(0, rho) + np.log(y)\n",
    "    score = np.column_stack((score_beta, score_rho))\n",
    "    \n",
    "    if individual:\n",
    "        \n",
    "        return score\n",
    "    \n",
    "    else: \n",
    "    \n",
    "        return np.sum(score, axis=0)\n",
    "    \n",
    "# calculate score\n",
    "score_restricted = gamma_log_like_score(params_mle, y_data, individual=False)\n",
    "\n",
    "# LM stat\n",
    "lm = score_restricted.T @ V_res @ score_restricted\n",
    "\n",
    "p_val_lm = 1 - stats.chi2.cdf(lm, 2)\n",
    "\n",
    "print(\"LM: \" + str(lm))\n",
    "print(\"p-value: \" + str(p_val_lm))"
   ]
  },
  {
   "cell_type": "code",
   "execution_count": 38,
   "id": "arranged-jersey",
   "metadata": {},
   "outputs": [
    {
     "data": {
      "text/plain": [
       "array([[ 0.726465  , -0.79902348],\n",
       "       [ 0.69186564, -0.66826078],\n",
       "       [-0.39089828,  0.90780083],\n",
       "       ...,\n",
       "       [-1.53690206,  1.51731658],\n",
       "       [-2.61529054,  1.87461246],\n",
       "       [ 0.07146218,  0.49422833]])"
      ]
     },
     "execution_count": 38,
     "metadata": {},
     "output_type": "execute_result"
    }
   ],
   "source": [
    "gamma_log_like_score(params_mle, y_data, individual=True)"
   ]
  },
  {
   "cell_type": "code",
   "execution_count": 39,
   "id": "trying-prison",
   "metadata": {},
   "outputs": [
    {
     "data": {
      "text/plain": [
       "array([[-0.726465  ,  0.77282202],\n",
       "       [-0.69186564,  0.64205933],\n",
       "       [ 0.39089827, -0.93400228],\n",
       "       ...,\n",
       "       [ 1.53690204, -1.54351803],\n",
       "       [ 2.61529056, -1.90081393],\n",
       "       [-0.07146217, -0.52042979]])"
      ]
     },
     "execution_count": 39,
     "metadata": {},
     "output_type": "execute_result"
    }
   ],
   "source": [
    "# the numerical derivative will have a different sign since we have defined the negative log-likelihood\n",
    "approx_fprime(params_mle, log_like_gamma, args=(y_data, True))"
   ]
  },
  {
   "cell_type": "markdown",
   "id": "partial-section",
   "metadata": {},
   "source": [
    "__Question 7__\n",
    "\n",
    "First, we simulate all the data that we need to use."
   ]
  },
  {
   "cell_type": "code",
   "execution_count": 40,
   "id": "expected-communist",
   "metadata": {},
   "outputs": [],
   "source": [
    "n = 500\n",
    "num_sim = 10000\n",
    "beta_true = 1.0\n",
    "rho_true = 1.0\n",
    "y_data_all = stats.gamma.rvs(a=rho_true, scale=1.0/beta_true, size=(num_sim, n))"
   ]
  },
  {
   "cell_type": "code",
   "execution_count": 41,
   "id": "retained-factory",
   "metadata": {},
   "outputs": [
    {
     "name": "stderr",
     "output_type": "stream",
     "text": [
      "<ipython-input-30-eee6526c24ee>:12: RuntimeWarning: divide by zero encountered in log\n",
      "  log_like = rho * np.log(beta) - gammaln(rho) + (rho - 1) * np.log(y) - y * beta\n",
      "C:\\environments\\python_for_fin_econ\\lib\\site-packages\\scipy\\optimize\\_numdiff.py:557: RuntimeWarning: invalid value encountered in subtract\n",
      "  df = fun(x) - f0\n"
     ]
    }
   ],
   "source": [
    "sample_sizes = [25, 50, 100, 500]\n",
    "output_lr = np.empty((num_sim, len(sample_sizes)))\n",
    "\n",
    "for j, sample_size in enumerate(sample_sizes):\n",
    "    for i in range(num_sim):\n",
    "        \n",
    "        # select data\n",
    "        y_data = y_data_all[i, :sample_size]\n",
    "\n",
    "        # estimate \n",
    "        res = optimize.minimize(log_like_gamma, [1.0, 1.0], args=(y_data,),\n",
    "                                bounds=((0.0, None), (0.0, None)))\n",
    "        # calculate LR statistics \n",
    "        output_lr[i, j] = 2 * (log_like_gamma([1.0, 1.0], y_data) - log_like_gamma(res.x, y_data))\n"
   ]
  },
  {
   "cell_type": "code",
   "execution_count": 97,
   "id": "presidential-northern",
   "metadata": {},
   "outputs": [
    {
     "data": {
      "image/png": "[encoded data removed]",
      "text/plain": [
       "<Figure size 1152x576 with 4 Axes>"
      ]
     },
     "metadata": {
      "needs_background": "light"
     },
     "output_type": "display_data"
    }
   ],
   "source": [
    "\"\"\"\n",
    "Histogram and chi^2(2)\n",
    "\"\"\"\n",
    "x_values = np.linspace(0.001, 20, 1000)\n",
    "chi_pdf_values = stats.chi2.pdf(x_values, 2)\n",
    "\n",
    "fig, ax = plt.subplots(2, 2, figsize=(16, 8))\n",
    "ax = ax.flatten()\n",
    "for i in range(len(sample_sizes)):\n",
    "    ax[i].hist(output_lr[:, i], bins=100, density=True, label=\"n={}\".format(sample_sizes[i]), alpha=1.0); \n",
    "    ax[i].plot(x_values, chi_pdf_values, color=\"red\", label=\"Asymptotic distribution\")\n",
    "    ax[i].legend();\n"
   ]
  },
  {
   "cell_type": "markdown",
   "id": "strategic-visit",
   "metadata": {},
   "source": [
    "__Question 8__\n",
    "\n",
    "The size may be somewhat to large for smaller samples. "
   ]
  },
  {
   "cell_type": "code",
   "execution_count": 100,
   "id": "variable-wright",
   "metadata": {},
   "outputs": [
    {
     "data": {
      "text/plain": [
       "array([0.0587, 0.0552, 0.0498, 0.0492])"
      ]
     },
     "execution_count": 100,
     "metadata": {},
     "output_type": "execute_result"
    }
   ],
   "source": [
    "np.sum(output_lr>stats.chi2.ppf(0.95, 2), axis=0) / num_sim "
   ]
  },
  {
   "cell_type": "markdown",
   "id": "smaller-windows",
   "metadata": {},
   "source": [
    "__Questio 9__\n",
    "\n",
    "Naturally, the power is increasing with the sample size!"
   ]
  },
  {
   "cell_type": "code",
   "execution_count": 101,
   "id": "enclosed-monday",
   "metadata": {},
   "outputs": [],
   "source": [
    "n = 500\n",
    "num_sim = 10000\n",
    "beta_true = 1.25\n",
    "rho_true = 1.0\n",
    "y_data_all = stats.gamma.rvs(a=rho_true, scale=1.0/beta_true, size=(num_sim, n))"
   ]
  },
  {
   "cell_type": "code",
   "execution_count": 103,
   "id": "animal-david",
   "metadata": {},
   "outputs": [
    {
     "name": "stderr",
     "output_type": "stream",
     "text": [
      "<ipython-input-30-eee6526c24ee>:12: RuntimeWarning: divide by zero encountered in log\n",
      "  log_like = rho * np.log(beta) - gammaln(rho) + (rho - 1) * np.log(y) - y * beta\n",
      "C:\\environments\\python_for_fin_econ\\lib\\site-packages\\scipy\\optimize\\_numdiff.py:557: RuntimeWarning: invalid value encountered in subtract\n",
      "  df = fun(x) - f0\n"
     ]
    }
   ],
   "source": [
    "sample_sizes = [25, 50, 100, 500]\n",
    "output_power_lr = np.empty((num_sim, len(sample_sizes)))\n",
    "\n",
    "for j, sample_size in enumerate(sample_sizes):\n",
    "    for i in range(num_sim):\n",
    "        \n",
    "        # select data\n",
    "        y_data = y_data_all[i, :sample_size]\n",
    "\n",
    "        # estimate \n",
    "        res = optimize.minimize(log_like_gamma, [1.0, 1.0], args=(y_data,),\n",
    "                                bounds=((0.0, None), (0.0, None)))\n",
    "        # calculate LR statistics \n",
    "        output_power_lr[i, j] = 2 * (log_like_gamma([1.0, 1.0], y_data) - log_like_gamma(res.x, y_data))\n"
   ]
  },
  {
   "cell_type": "code",
   "execution_count": 104,
   "id": "regional-custody",
   "metadata": {},
   "outputs": [
    {
     "data": {
      "text/plain": [
       "array([0.1552, 0.2533, 0.4852, 0.9947])"
      ]
     },
     "execution_count": 104,
     "metadata": {},
     "output_type": "execute_result"
    }
   ],
   "source": [
    "np.sum(output_power_lr>stats.chi2.ppf(0.95, 2), axis=0) / num_sim "
   ]
  },
  {
   "cell_type": "markdown",
   "id": "alike-interest",
   "metadata": {},
   "source": [
    "### Statsmodels implementation"
   ]
  },
  {
   "cell_type": "code",
   "execution_count": 43,
   "id": "exempt-suspect",
   "metadata": {},
   "outputs": [
    {
     "name": "stdout",
     "output_type": "stream",
     "text": [
      "Optimization terminated successfully.\n",
      "         Current function value: 1.040476\n",
      "         Iterations: 25\n",
      "         Function evaluations: 47\n",
      "                            GammaLogLModel Results                            \n",
      "==============================================================================\n",
      "Dep. Variable:                      y   Log-Likelihood:                -520.24\n",
      "Model:                 GammaLogLModel   AIC:                               nan\n",
      "Method:            Maximum Likelihood   BIC:                               nan\n",
      "Date:                Sat, 18 Sep 2021                                         \n",
      "Time:                        15:58:21                                         \n",
      "No. Observations:                 500                                         \n",
      "Df Residuals:                     NaN                                         \n",
      "Df Model:                         NaN                                         \n",
      "==============================================================================\n",
      "                 coef    std err          z      P>|z|      [0.025      0.975]\n",
      "------------------------------------------------------------------------------\n",
      "par0           1.0140      0.072     14.109      0.000       0.873       1.155\n",
      "par1           1.0569      0.059     17.870      0.000       0.941       1.173\n",
      "==============================================================================\n"
     ]
    }
   ],
   "source": [
    "from statsmodels.base.model import GenericLikelihoodModel\n",
    "\n",
    "class GammaLogLModel(GenericLikelihoodModel):\n",
    "    \n",
    "    nparams = 2\n",
    "    \n",
    "    def loglike(self, params):\n",
    "        \n",
    "        endog = self.endog\n",
    "        \n",
    "        beta = params[0]\n",
    "        rho = params[1]\n",
    "        \n",
    "        return stats.gamma.logpdf(endog, rho, scale = 1.0 / beta).sum()\n",
    "\n",
    "\n",
    "res = GammaLogLModel(y_data).fit(start_params=[1.0, 1.0])\n",
    "\n",
    "print(res.summary())"
   ]
  },
  {
   "cell_type": "markdown",
   "id": "organizational-offense",
   "metadata": {},
   "source": [
    "__Question 5__"
   ]
  },
  {
   "cell_type": "code",
   "execution_count": 44,
   "id": "meaning-arrow",
   "metadata": {},
   "outputs": [
    {
     "data": {
      "text/plain": [
       "<class 'statsmodels.stats.contrast.ContrastResults'>\n",
       "                             Test for Constraints                             \n",
       "==============================================================================\n",
       "                 coef    std err          z      P>|z|      [0.025      0.975]\n",
       "------------------------------------------------------------------------------\n",
       "c0             1.0140      0.072      0.195      0.845       0.873       1.155\n",
       "=============================================================================="
      ]
     },
     "execution_count": 44,
     "metadata": {},
     "output_type": "execute_result"
    }
   ],
   "source": [
    "res.t_test('par0=1')"
   ]
  },
  {
   "cell_type": "code",
   "execution_count": 45,
   "id": "responsible-county",
   "metadata": {},
   "outputs": [
    {
     "data": {
      "text/plain": [
       "<class 'statsmodels.stats.contrast.ContrastResults'>\n",
       "                             Test for Constraints                             \n",
       "==============================================================================\n",
       "                 coef    std err          z      P>|z|      [0.025      0.975]\n",
       "------------------------------------------------------------------------------\n",
       "c0             1.0569      0.059      0.962      0.336       0.941       1.173\n",
       "=============================================================================="
      ]
     },
     "execution_count": 45,
     "metadata": {},
     "output_type": "execute_result"
    }
   ],
   "source": [
    "res.t_test('par1=1')"
   ]
  },
  {
   "cell_type": "markdown",
   "id": "hourly-passion",
   "metadata": {},
   "source": [
    "# References\n",
    "\n",
    "\n",
    "## Articles\n",
    "\n",
    "[Nyberg (2010)](https://onlinelibrary-wiley-com.esc-web.lib.cbs.dk:8443/doi/abs/10.1002/for.1161)\n",
    "\n",
    "\n",
    "## Books"
   ]
  }
 ],
 "metadata": {
  "kernelspec": {
   "display_name": "python_for_fin_econ",
   "language": "python",
   "name": "python_for_fin_econ"
  },
  "language_info": {
   "codemirror_mode": {
    "name": "ipython",
    "version": 3
   },
   "file_extension": ".py",
   "mimetype": "text/x-python",
   "name": "python",
   "nbconvert_exporter": "python",
   "pygments_lexer": "ipython3",
   "version": "3.8.6"
  }
 },
 "nbformat": 4,
 "nbformat_minor": 5
}
